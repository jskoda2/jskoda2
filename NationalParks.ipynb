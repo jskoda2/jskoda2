{
  "cells": [
    {
      "cell_type": "markdown",
      "metadata": {
        "id": "view-in-github",
        "colab_type": "text"
      },
      "source": [
        "<a href=\"https://colab.research.google.com/github/jskoda2/jskoda2/blob/main/NationalParks.ipynb\" target=\"_parent\"><img src=\"https://colab.research.google.com/assets/colab-badge.svg\" alt=\"Open In Colab\"/></a>"
      ]
    },
    {
      "cell_type": "markdown",
      "source": [
        "# Goal:\n",
        "\n",
        "\n",
        "I will be conducting this exploration with the National Park Service in mind as a 'client'.\n",
        "\n",
        "My aim is to understand camping reservation behavior by region in order to anticipate facility needs and inform marketing strategy."
      ],
      "metadata": {
        "id": "ddghWPM6nw-f"
      }
    },
    {
      "cell_type": "markdown",
      "metadata": {
        "id": "PJ_hoq-Pp8SF"
      },
      "source": [
        "# Dataset Description"
      ]
    },
    {
      "cell_type": "markdown",
      "metadata": {
        "id": "uRzKZMoZKa7_"
      },
      "source": [
        "This data comes from 'recreation.gov' and is a comprehensive archive of all recreational reservations made through government agencies such as the National Parks Service, US Forest Service, and the National Archives and Records Administration.\n",
        "\n",
        "Goal: \n",
        "\n",
        "I will be conducting this exploration with the National Park Service in mind as a 'client'.\n"
      ]
    },
    {
      "cell_type": "code",
      "execution_count": null,
      "metadata": {
        "colab": {
          "base_uri": "https://localhost:8080/"
        },
        "id": "DJesGj6hGikM",
        "outputId": "f0cb7501-e39d-4ff7-83b3-83deef17dde9"
      },
      "outputs": [
        {
          "output_type": "stream",
          "name": "stderr",
          "text": [
            "/usr/local/lib/python3.7/dist-packages/IPython/core/interactiveshell.py:2882: DtypeWarning: Columns (7,11,12,13,15,17,29,31,33) have mixed types.Specify dtype option on import or set low_memory=False.\n",
            "  exec(code_obj, self.user_global_ns, self.user_ns)\n"
          ]
        },
        {
          "output_type": "execute_result",
          "data": {
            "text/plain": [
              "(8354633, 35)"
            ]
          },
          "metadata": {},
          "execution_count": 1
        }
      ],
      "source": [
        "import numpy as np\n",
        "import pandas as pd\n",
        "from scipy import stats\n",
        "import seaborn as sns\n",
        "import missingno as msno\n",
        "import matplotlib as mpl\n",
        "import matplotlib.pyplot as plt\n",
        "sns.set()\n",
        "\n",
        "df = pd.read_csv('/content/drive/MyDrive/4. School/Thinkful - Data Analytics/Capstone 3/Data/FY21 Historical Reservations Full.csv') #import 2021 parks reservations\n",
        "df.shape #the dimensions of this DataFrame\n"
      ]
    },
    {
      "cell_type": "markdown",
      "source": [
        "This dataset contains 35 columns and 8,354,633 rows."
      ],
      "metadata": {
        "id": "ilhm6NjvN-i_"
      }
    },
    {
      "cell_type": "code",
      "execution_count": null,
      "metadata": {
        "colab": {
          "base_uri": "https://localhost:8080/",
          "height": 236
        },
        "id": "nDhgCY1b91ce",
        "outputId": "a2533b54-e2cf-4453-dc9b-ef92f950f09c"
      },
      "outputs": [
        {
          "output_type": "execute_result",
          "data": {
            "text/plain": [
              "                historicalreservationid   ordernumber agency  orgid  \\\n",
              "0  edd9085a-a89f-4787-b9ec-e0794e5ac1b4  0201638440-1    BLM  126.0   \n",
              "1  1d1d4d6a-3d57-47d0-9212-d9a4411555c0  0202157822-1    BLM  126.0   \n",
              "2  bca72357-5824-4484-9eac-a824f5c00622  0208506393-1    BLM  126.0   \n",
              "3  cbf1ce58-fb2a-4605-9474-cf27f1ce4052  0208506393-2    BLM  126.0   \n",
              "4  b3e1899a-aa31-4948-8d47-29af5f6ea85f  0217769313-1    BLM  126.0   \n",
              "\n",
              "                 codehierarchy regioncode regiondescription parentlocationid  \\\n",
              "0  |1|70901|72193|72194|146090         AK            Alaska            72195   \n",
              "1  |1|70901|72193|72194|146090         AK            Alaska            72195   \n",
              "2  |1|70901|72193|72194|146090         AK            Alaska            72195   \n",
              "3  |1|70901|72193|72194|146090         AK            Alaska            72195   \n",
              "4  |1|70901|72193|72194|146090         AK            Alaska            72195   \n",
              "\n",
              "                             parentlocation  legacyfacilityid  ...  \\\n",
              "0  White Mountains National Recreation Area          146090.0  ...   \n",
              "1  White Mountains National Recreation Area          146090.0  ...   \n",
              "2  White Mountains National Recreation Area          146090.0  ...   \n",
              "3  White Mountains National Recreation Area          146090.0  ...   \n",
              "4  White Mountains National Recreation Area          146090.0  ...   \n",
              "\n",
              "  totalbeforetax discount totalpaid                startdate  \\\n",
              "0           58.0      0.0      58.0  2020-10-08 00:00:00.000   \n",
              "1           33.0      0.0      33.0  2020-10-23 00:00:00.000   \n",
              "2           33.0      0.0      33.0  2020-10-02 00:00:00.000   \n",
              "3           25.0      0.0      25.0  2020-10-03 00:00:00.000   \n",
              "4           18.0      0.0      18.0  2020-10-10 00:00:00.000   \n",
              "\n",
              "                   enddate                orderdate  nights numberofpeople  \\\n",
              "0  2020-10-10 00:00:00.000  2020-09-10 09:16:58.400  2 days            1.0   \n",
              "1  2020-10-24 00:00:00.000  2020-09-28 23:22:18.538   1 day            2.0   \n",
              "2  2020-10-03 00:00:00.000  2020-09-19 01:03:11.146   1 day            0.0   \n",
              "3  2020-10-04 00:00:00.000  2020-09-19 01:03:11.146   1 day            2.0   \n",
              "4  2020-10-11 00:00:00.000  2020-09-16 19:57:02.020   1 day            0.0   \n",
              "\n",
              "   equipmentdescription  equipmentlength  \n",
              "0                   NaN              0.0  \n",
              "1                   NaN              0.0  \n",
              "2                   NaN              0.0  \n",
              "3                   NaN              0.0  \n",
              "4                   NaN              0.0  \n",
              "\n",
              "[5 rows x 35 columns]"
            ],
            "text/html": [
              "\n",
              "  <div id=\"df-18e8cf70-3daa-4311-9724-7a8dbcce4ae1\">\n",
              "    <div class=\"colab-df-container\">\n",
              "      <div>\n",
              "<style scoped>\n",
              "    .dataframe tbody tr th:only-of-type {\n",
              "        vertical-align: middle;\n",
              "    }\n",
              "\n",
              "    .dataframe tbody tr th {\n",
              "        vertical-align: top;\n",
              "    }\n",
              "\n",
              "    .dataframe thead th {\n",
              "        text-align: right;\n",
              "    }\n",
              "</style>\n",
              "<table border=\"1\" class=\"dataframe\">\n",
              "  <thead>\n",
              "    <tr style=\"text-align: right;\">\n",
              "      <th></th>\n",
              "      <th>historicalreservationid</th>\n",
              "      <th>ordernumber</th>\n",
              "      <th>agency</th>\n",
              "      <th>orgid</th>\n",
              "      <th>codehierarchy</th>\n",
              "      <th>regioncode</th>\n",
              "      <th>regiondescription</th>\n",
              "      <th>parentlocationid</th>\n",
              "      <th>parentlocation</th>\n",
              "      <th>legacyfacilityid</th>\n",
              "      <th>...</th>\n",
              "      <th>totalbeforetax</th>\n",
              "      <th>discount</th>\n",
              "      <th>totalpaid</th>\n",
              "      <th>startdate</th>\n",
              "      <th>enddate</th>\n",
              "      <th>orderdate</th>\n",
              "      <th>nights</th>\n",
              "      <th>numberofpeople</th>\n",
              "      <th>equipmentdescription</th>\n",
              "      <th>equipmentlength</th>\n",
              "    </tr>\n",
              "  </thead>\n",
              "  <tbody>\n",
              "    <tr>\n",
              "      <th>0</th>\n",
              "      <td>edd9085a-a89f-4787-b9ec-e0794e5ac1b4</td>\n",
              "      <td>0201638440-1</td>\n",
              "      <td>BLM</td>\n",
              "      <td>126.0</td>\n",
              "      <td>|1|70901|72193|72194|146090</td>\n",
              "      <td>AK</td>\n",
              "      <td>Alaska</td>\n",
              "      <td>72195</td>\n",
              "      <td>White Mountains National Recreation Area</td>\n",
              "      <td>146090.0</td>\n",
              "      <td>...</td>\n",
              "      <td>58.0</td>\n",
              "      <td>0.0</td>\n",
              "      <td>58.0</td>\n",
              "      <td>2020-10-08 00:00:00.000</td>\n",
              "      <td>2020-10-10 00:00:00.000</td>\n",
              "      <td>2020-09-10 09:16:58.400</td>\n",
              "      <td>2 days</td>\n",
              "      <td>1.0</td>\n",
              "      <td>NaN</td>\n",
              "      <td>0.0</td>\n",
              "    </tr>\n",
              "    <tr>\n",
              "      <th>1</th>\n",
              "      <td>1d1d4d6a-3d57-47d0-9212-d9a4411555c0</td>\n",
              "      <td>0202157822-1</td>\n",
              "      <td>BLM</td>\n",
              "      <td>126.0</td>\n",
              "      <td>|1|70901|72193|72194|146090</td>\n",
              "      <td>AK</td>\n",
              "      <td>Alaska</td>\n",
              "      <td>72195</td>\n",
              "      <td>White Mountains National Recreation Area</td>\n",
              "      <td>146090.0</td>\n",
              "      <td>...</td>\n",
              "      <td>33.0</td>\n",
              "      <td>0.0</td>\n",
              "      <td>33.0</td>\n",
              "      <td>2020-10-23 00:00:00.000</td>\n",
              "      <td>2020-10-24 00:00:00.000</td>\n",
              "      <td>2020-09-28 23:22:18.538</td>\n",
              "      <td>1 day</td>\n",
              "      <td>2.0</td>\n",
              "      <td>NaN</td>\n",
              "      <td>0.0</td>\n",
              "    </tr>\n",
              "    <tr>\n",
              "      <th>2</th>\n",
              "      <td>bca72357-5824-4484-9eac-a824f5c00622</td>\n",
              "      <td>0208506393-1</td>\n",
              "      <td>BLM</td>\n",
              "      <td>126.0</td>\n",
              "      <td>|1|70901|72193|72194|146090</td>\n",
              "      <td>AK</td>\n",
              "      <td>Alaska</td>\n",
              "      <td>72195</td>\n",
              "      <td>White Mountains National Recreation Area</td>\n",
              "      <td>146090.0</td>\n",
              "      <td>...</td>\n",
              "      <td>33.0</td>\n",
              "      <td>0.0</td>\n",
              "      <td>33.0</td>\n",
              "      <td>2020-10-02 00:00:00.000</td>\n",
              "      <td>2020-10-03 00:00:00.000</td>\n",
              "      <td>2020-09-19 01:03:11.146</td>\n",
              "      <td>1 day</td>\n",
              "      <td>0.0</td>\n",
              "      <td>NaN</td>\n",
              "      <td>0.0</td>\n",
              "    </tr>\n",
              "    <tr>\n",
              "      <th>3</th>\n",
              "      <td>cbf1ce58-fb2a-4605-9474-cf27f1ce4052</td>\n",
              "      <td>0208506393-2</td>\n",
              "      <td>BLM</td>\n",
              "      <td>126.0</td>\n",
              "      <td>|1|70901|72193|72194|146090</td>\n",
              "      <td>AK</td>\n",
              "      <td>Alaska</td>\n",
              "      <td>72195</td>\n",
              "      <td>White Mountains National Recreation Area</td>\n",
              "      <td>146090.0</td>\n",
              "      <td>...</td>\n",
              "      <td>25.0</td>\n",
              "      <td>0.0</td>\n",
              "      <td>25.0</td>\n",
              "      <td>2020-10-03 00:00:00.000</td>\n",
              "      <td>2020-10-04 00:00:00.000</td>\n",
              "      <td>2020-09-19 01:03:11.146</td>\n",
              "      <td>1 day</td>\n",
              "      <td>2.0</td>\n",
              "      <td>NaN</td>\n",
              "      <td>0.0</td>\n",
              "    </tr>\n",
              "    <tr>\n",
              "      <th>4</th>\n",
              "      <td>b3e1899a-aa31-4948-8d47-29af5f6ea85f</td>\n",
              "      <td>0217769313-1</td>\n",
              "      <td>BLM</td>\n",
              "      <td>126.0</td>\n",
              "      <td>|1|70901|72193|72194|146090</td>\n",
              "      <td>AK</td>\n",
              "      <td>Alaska</td>\n",
              "      <td>72195</td>\n",
              "      <td>White Mountains National Recreation Area</td>\n",
              "      <td>146090.0</td>\n",
              "      <td>...</td>\n",
              "      <td>18.0</td>\n",
              "      <td>0.0</td>\n",
              "      <td>18.0</td>\n",
              "      <td>2020-10-10 00:00:00.000</td>\n",
              "      <td>2020-10-11 00:00:00.000</td>\n",
              "      <td>2020-09-16 19:57:02.020</td>\n",
              "      <td>1 day</td>\n",
              "      <td>0.0</td>\n",
              "      <td>NaN</td>\n",
              "      <td>0.0</td>\n",
              "    </tr>\n",
              "  </tbody>\n",
              "</table>\n",
              "<p>5 rows × 35 columns</p>\n",
              "</div>\n",
              "      <button class=\"colab-df-convert\" onclick=\"convertToInteractive('df-18e8cf70-3daa-4311-9724-7a8dbcce4ae1')\"\n",
              "              title=\"Convert this dataframe to an interactive table.\"\n",
              "              style=\"display:none;\">\n",
              "        \n",
              "  <svg xmlns=\"http://www.w3.org/2000/svg\" height=\"24px\"viewBox=\"0 0 24 24\"\n",
              "       width=\"24px\">\n",
              "    <path d=\"M0 0h24v24H0V0z\" fill=\"none\"/>\n",
              "    <path d=\"M18.56 5.44l.94 2.06.94-2.06 2.06-.94-2.06-.94-.94-2.06-.94 2.06-2.06.94zm-11 1L8.5 8.5l.94-2.06 2.06-.94-2.06-.94L8.5 2.5l-.94 2.06-2.06.94zm10 10l.94 2.06.94-2.06 2.06-.94-2.06-.94-.94-2.06-.94 2.06-2.06.94z\"/><path d=\"M17.41 7.96l-1.37-1.37c-.4-.4-.92-.59-1.43-.59-.52 0-1.04.2-1.43.59L10.3 9.45l-7.72 7.72c-.78.78-.78 2.05 0 2.83L4 21.41c.39.39.9.59 1.41.59.51 0 1.02-.2 1.41-.59l7.78-7.78 2.81-2.81c.8-.78.8-2.07 0-2.86zM5.41 20L4 18.59l7.72-7.72 1.47 1.35L5.41 20z\"/>\n",
              "  </svg>\n",
              "      </button>\n",
              "      \n",
              "  <style>\n",
              "    .colab-df-container {\n",
              "      display:flex;\n",
              "      flex-wrap:wrap;\n",
              "      gap: 12px;\n",
              "    }\n",
              "\n",
              "    .colab-df-convert {\n",
              "      background-color: #E8F0FE;\n",
              "      border: none;\n",
              "      border-radius: 50%;\n",
              "      cursor: pointer;\n",
              "      display: none;\n",
              "      fill: #1967D2;\n",
              "      height: 32px;\n",
              "      padding: 0 0 0 0;\n",
              "      width: 32px;\n",
              "    }\n",
              "\n",
              "    .colab-df-convert:hover {\n",
              "      background-color: #E2EBFA;\n",
              "      box-shadow: 0px 1px 2px rgba(60, 64, 67, 0.3), 0px 1px 3px 1px rgba(60, 64, 67, 0.15);\n",
              "      fill: #174EA6;\n",
              "    }\n",
              "\n",
              "    [theme=dark] .colab-df-convert {\n",
              "      background-color: #3B4455;\n",
              "      fill: #D2E3FC;\n",
              "    }\n",
              "\n",
              "    [theme=dark] .colab-df-convert:hover {\n",
              "      background-color: #434B5C;\n",
              "      box-shadow: 0px 1px 3px 1px rgba(0, 0, 0, 0.15);\n",
              "      filter: drop-shadow(0px 1px 2px rgba(0, 0, 0, 0.3));\n",
              "      fill: #FFFFFF;\n",
              "    }\n",
              "  </style>\n",
              "\n",
              "      <script>\n",
              "        const buttonEl =\n",
              "          document.querySelector('#df-18e8cf70-3daa-4311-9724-7a8dbcce4ae1 button.colab-df-convert');\n",
              "        buttonEl.style.display =\n",
              "          google.colab.kernel.accessAllowed ? 'block' : 'none';\n",
              "\n",
              "        async function convertToInteractive(key) {\n",
              "          const element = document.querySelector('#df-18e8cf70-3daa-4311-9724-7a8dbcce4ae1');\n",
              "          const dataTable =\n",
              "            await google.colab.kernel.invokeFunction('convertToInteractive',\n",
              "                                                     [key], {});\n",
              "          if (!dataTable) return;\n",
              "\n",
              "          const docLinkHtml = 'Like what you see? Visit the ' +\n",
              "            '<a target=\"_blank\" href=https://colab.research.google.com/notebooks/data_table.ipynb>data table notebook</a>'\n",
              "            + ' to learn more about interactive tables.';\n",
              "          element.innerHTML = '';\n",
              "          dataTable['output_type'] = 'display_data';\n",
              "          await google.colab.output.renderOutput(dataTable, element);\n",
              "          const docLink = document.createElement('div');\n",
              "          docLink.innerHTML = docLinkHtml;\n",
              "          element.appendChild(docLink);\n",
              "        }\n",
              "      </script>\n",
              "    </div>\n",
              "  </div>\n",
              "  "
            ]
          },
          "metadata": {},
          "execution_count": 2
        }
      ],
      "source": [
        "df.head(5) #preview the first three rows of the set"
      ]
    },
    {
      "cell_type": "code",
      "execution_count": null,
      "metadata": {
        "colab": {
          "base_uri": "https://localhost:8080/",
          "height": 300
        },
        "id": "yz4diJztyChe",
        "outputId": "893f447d-a2bb-4e7f-ee2f-3e3a1b72ff02"
      },
      "outputs": [
        {
          "output_type": "execute_result",
          "data": {
            "text/plain": [
              "              orgid  legacyfacilityid   facilityzip  facilitylongitude  \\\n",
              "count 8354553.00000     5337286.00000 5910487.00000      6899148.00000   \n",
              "mean      129.32949      168393.21619   72231.42939          -84.76226   \n",
              "std         3.75220      921770.04817   24945.05279           52.90340   \n",
              "min       126.00000       70003.00000    1050.00000         -157.95278   \n",
              "25%       128.00000       71125.00000   55604.00000         -117.21426   \n",
              "50%       128.00000       72600.00000   81640.00000         -103.20596   \n",
              "75%       131.00000       75150.00000   93529.00000          -83.94944   \n",
              "max       192.00000    10149034.00000   99929.00000          119.63300   \n",
              "\n",
              "       facilitylatitude           tax  usefee  tranfee  attrfee  \\\n",
              "count     6899148.00000 8354633.00000 0.00000  0.00000  0.00000   \n",
              "mean           23.77293       0.25663     NaN      NaN      NaN   \n",
              "std            36.78382       2.06494     NaN      NaN      NaN   \n",
              "min           -88.16181      -3.45000     NaN      NaN      NaN   \n",
              "25%            33.44004       0.00000     NaN      NaN      NaN   \n",
              "50%            37.04242       0.00000     NaN      NaN      NaN   \n",
              "75%            40.52917       0.00000     NaN      NaN      NaN   \n",
              "max            65.42750     652.08000     NaN      NaN      NaN   \n",
              "\n",
              "       totalbeforetax      discount     totalpaid  numberofpeople  \\\n",
              "count   8354633.00000 8354633.00000 8354633.00000   5910695.00000   \n",
              "mean         34.33513      -4.60108      29.89209         3.80261   \n",
              "std          50.60455      16.60857      45.34183         5.31202   \n",
              "min        -645.40000   -1025.00000    -645.40000         0.00000   \n",
              "25%           6.00000       0.00000       3.00000         2.00000   \n",
              "50%          18.00000       0.00000      17.00000         2.00000   \n",
              "75%          44.00000       0.00000      40.00000         4.00000   \n",
              "max        6160.00000     154.00000    6580.08000       600.00000   \n",
              "\n",
              "            equipmentlength  \n",
              "count         4195744.00000  \n",
              "mean         79530948.26675  \n",
              "std      162732523078.71918  \n",
              "min                 0.00000  \n",
              "25%                 0.00000  \n",
              "50%                16.00000  \n",
              "75%                28.00000  \n",
              "max   333333333333330.00000  "
            ],
            "text/html": [
              "\n",
              "  <div id=\"df-0983f5b9-1918-4d46-9e79-21666d8676b6\">\n",
              "    <div class=\"colab-df-container\">\n",
              "      <div>\n",
              "<style scoped>\n",
              "    .dataframe tbody tr th:only-of-type {\n",
              "        vertical-align: middle;\n",
              "    }\n",
              "\n",
              "    .dataframe tbody tr th {\n",
              "        vertical-align: top;\n",
              "    }\n",
              "\n",
              "    .dataframe thead th {\n",
              "        text-align: right;\n",
              "    }\n",
              "</style>\n",
              "<table border=\"1\" class=\"dataframe\">\n",
              "  <thead>\n",
              "    <tr style=\"text-align: right;\">\n",
              "      <th></th>\n",
              "      <th>orgid</th>\n",
              "      <th>legacyfacilityid</th>\n",
              "      <th>facilityzip</th>\n",
              "      <th>facilitylongitude</th>\n",
              "      <th>facilitylatitude</th>\n",
              "      <th>tax</th>\n",
              "      <th>usefee</th>\n",
              "      <th>tranfee</th>\n",
              "      <th>attrfee</th>\n",
              "      <th>totalbeforetax</th>\n",
              "      <th>discount</th>\n",
              "      <th>totalpaid</th>\n",
              "      <th>numberofpeople</th>\n",
              "      <th>equipmentlength</th>\n",
              "    </tr>\n",
              "  </thead>\n",
              "  <tbody>\n",
              "    <tr>\n",
              "      <th>count</th>\n",
              "      <td>8354553.00000</td>\n",
              "      <td>5337286.00000</td>\n",
              "      <td>5910487.00000</td>\n",
              "      <td>6899148.00000</td>\n",
              "      <td>6899148.00000</td>\n",
              "      <td>8354633.00000</td>\n",
              "      <td>0.00000</td>\n",
              "      <td>0.00000</td>\n",
              "      <td>0.00000</td>\n",
              "      <td>8354633.00000</td>\n",
              "      <td>8354633.00000</td>\n",
              "      <td>8354633.00000</td>\n",
              "      <td>5910695.00000</td>\n",
              "      <td>4195744.00000</td>\n",
              "    </tr>\n",
              "    <tr>\n",
              "      <th>mean</th>\n",
              "      <td>129.32949</td>\n",
              "      <td>168393.21619</td>\n",
              "      <td>72231.42939</td>\n",
              "      <td>-84.76226</td>\n",
              "      <td>23.77293</td>\n",
              "      <td>0.25663</td>\n",
              "      <td>NaN</td>\n",
              "      <td>NaN</td>\n",
              "      <td>NaN</td>\n",
              "      <td>34.33513</td>\n",
              "      <td>-4.60108</td>\n",
              "      <td>29.89209</td>\n",
              "      <td>3.80261</td>\n",
              "      <td>79530948.26675</td>\n",
              "    </tr>\n",
              "    <tr>\n",
              "      <th>std</th>\n",
              "      <td>3.75220</td>\n",
              "      <td>921770.04817</td>\n",
              "      <td>24945.05279</td>\n",
              "      <td>52.90340</td>\n",
              "      <td>36.78382</td>\n",
              "      <td>2.06494</td>\n",
              "      <td>NaN</td>\n",
              "      <td>NaN</td>\n",
              "      <td>NaN</td>\n",
              "      <td>50.60455</td>\n",
              "      <td>16.60857</td>\n",
              "      <td>45.34183</td>\n",
              "      <td>5.31202</td>\n",
              "      <td>162732523078.71918</td>\n",
              "    </tr>\n",
              "    <tr>\n",
              "      <th>min</th>\n",
              "      <td>126.00000</td>\n",
              "      <td>70003.00000</td>\n",
              "      <td>1050.00000</td>\n",
              "      <td>-157.95278</td>\n",
              "      <td>-88.16181</td>\n",
              "      <td>-3.45000</td>\n",
              "      <td>NaN</td>\n",
              "      <td>NaN</td>\n",
              "      <td>NaN</td>\n",
              "      <td>-645.40000</td>\n",
              "      <td>-1025.00000</td>\n",
              "      <td>-645.40000</td>\n",
              "      <td>0.00000</td>\n",
              "      <td>0.00000</td>\n",
              "    </tr>\n",
              "    <tr>\n",
              "      <th>25%</th>\n",
              "      <td>128.00000</td>\n",
              "      <td>71125.00000</td>\n",
              "      <td>55604.00000</td>\n",
              "      <td>-117.21426</td>\n",
              "      <td>33.44004</td>\n",
              "      <td>0.00000</td>\n",
              "      <td>NaN</td>\n",
              "      <td>NaN</td>\n",
              "      <td>NaN</td>\n",
              "      <td>6.00000</td>\n",
              "      <td>0.00000</td>\n",
              "      <td>3.00000</td>\n",
              "      <td>2.00000</td>\n",
              "      <td>0.00000</td>\n",
              "    </tr>\n",
              "    <tr>\n",
              "      <th>50%</th>\n",
              "      <td>128.00000</td>\n",
              "      <td>72600.00000</td>\n",
              "      <td>81640.00000</td>\n",
              "      <td>-103.20596</td>\n",
              "      <td>37.04242</td>\n",
              "      <td>0.00000</td>\n",
              "      <td>NaN</td>\n",
              "      <td>NaN</td>\n",
              "      <td>NaN</td>\n",
              "      <td>18.00000</td>\n",
              "      <td>0.00000</td>\n",
              "      <td>17.00000</td>\n",
              "      <td>2.00000</td>\n",
              "      <td>16.00000</td>\n",
              "    </tr>\n",
              "    <tr>\n",
              "      <th>75%</th>\n",
              "      <td>131.00000</td>\n",
              "      <td>75150.00000</td>\n",
              "      <td>93529.00000</td>\n",
              "      <td>-83.94944</td>\n",
              "      <td>40.52917</td>\n",
              "      <td>0.00000</td>\n",
              "      <td>NaN</td>\n",
              "      <td>NaN</td>\n",
              "      <td>NaN</td>\n",
              "      <td>44.00000</td>\n",
              "      <td>0.00000</td>\n",
              "      <td>40.00000</td>\n",
              "      <td>4.00000</td>\n",
              "      <td>28.00000</td>\n",
              "    </tr>\n",
              "    <tr>\n",
              "      <th>max</th>\n",
              "      <td>192.00000</td>\n",
              "      <td>10149034.00000</td>\n",
              "      <td>99929.00000</td>\n",
              "      <td>119.63300</td>\n",
              "      <td>65.42750</td>\n",
              "      <td>652.08000</td>\n",
              "      <td>NaN</td>\n",
              "      <td>NaN</td>\n",
              "      <td>NaN</td>\n",
              "      <td>6160.00000</td>\n",
              "      <td>154.00000</td>\n",
              "      <td>6580.08000</td>\n",
              "      <td>600.00000</td>\n",
              "      <td>333333333333330.00000</td>\n",
              "    </tr>\n",
              "  </tbody>\n",
              "</table>\n",
              "</div>\n",
              "      <button class=\"colab-df-convert\" onclick=\"convertToInteractive('df-0983f5b9-1918-4d46-9e79-21666d8676b6')\"\n",
              "              title=\"Convert this dataframe to an interactive table.\"\n",
              "              style=\"display:none;\">\n",
              "        \n",
              "  <svg xmlns=\"http://www.w3.org/2000/svg\" height=\"24px\"viewBox=\"0 0 24 24\"\n",
              "       width=\"24px\">\n",
              "    <path d=\"M0 0h24v24H0V0z\" fill=\"none\"/>\n",
              "    <path d=\"M18.56 5.44l.94 2.06.94-2.06 2.06-.94-2.06-.94-.94-2.06-.94 2.06-2.06.94zm-11 1L8.5 8.5l.94-2.06 2.06-.94-2.06-.94L8.5 2.5l-.94 2.06-2.06.94zm10 10l.94 2.06.94-2.06 2.06-.94-2.06-.94-.94-2.06-.94 2.06-2.06.94z\"/><path d=\"M17.41 7.96l-1.37-1.37c-.4-.4-.92-.59-1.43-.59-.52 0-1.04.2-1.43.59L10.3 9.45l-7.72 7.72c-.78.78-.78 2.05 0 2.83L4 21.41c.39.39.9.59 1.41.59.51 0 1.02-.2 1.41-.59l7.78-7.78 2.81-2.81c.8-.78.8-2.07 0-2.86zM5.41 20L4 18.59l7.72-7.72 1.47 1.35L5.41 20z\"/>\n",
              "  </svg>\n",
              "      </button>\n",
              "      \n",
              "  <style>\n",
              "    .colab-df-container {\n",
              "      display:flex;\n",
              "      flex-wrap:wrap;\n",
              "      gap: 12px;\n",
              "    }\n",
              "\n",
              "    .colab-df-convert {\n",
              "      background-color: #E8F0FE;\n",
              "      border: none;\n",
              "      border-radius: 50%;\n",
              "      cursor: pointer;\n",
              "      display: none;\n",
              "      fill: #1967D2;\n",
              "      height: 32px;\n",
              "      padding: 0 0 0 0;\n",
              "      width: 32px;\n",
              "    }\n",
              "\n",
              "    .colab-df-convert:hover {\n",
              "      background-color: #E2EBFA;\n",
              "      box-shadow: 0px 1px 2px rgba(60, 64, 67, 0.3), 0px 1px 3px 1px rgba(60, 64, 67, 0.15);\n",
              "      fill: #174EA6;\n",
              "    }\n",
              "\n",
              "    [theme=dark] .colab-df-convert {\n",
              "      background-color: #3B4455;\n",
              "      fill: #D2E3FC;\n",
              "    }\n",
              "\n",
              "    [theme=dark] .colab-df-convert:hover {\n",
              "      background-color: #434B5C;\n",
              "      box-shadow: 0px 1px 3px 1px rgba(0, 0, 0, 0.15);\n",
              "      filter: drop-shadow(0px 1px 2px rgba(0, 0, 0, 0.3));\n",
              "      fill: #FFFFFF;\n",
              "    }\n",
              "  </style>\n",
              "\n",
              "      <script>\n",
              "        const buttonEl =\n",
              "          document.querySelector('#df-0983f5b9-1918-4d46-9e79-21666d8676b6 button.colab-df-convert');\n",
              "        buttonEl.style.display =\n",
              "          google.colab.kernel.accessAllowed ? 'block' : 'none';\n",
              "\n",
              "        async function convertToInteractive(key) {\n",
              "          const element = document.querySelector('#df-0983f5b9-1918-4d46-9e79-21666d8676b6');\n",
              "          const dataTable =\n",
              "            await google.colab.kernel.invokeFunction('convertToInteractive',\n",
              "                                                     [key], {});\n",
              "          if (!dataTable) return;\n",
              "\n",
              "          const docLinkHtml = 'Like what you see? Visit the ' +\n",
              "            '<a target=\"_blank\" href=https://colab.research.google.com/notebooks/data_table.ipynb>data table notebook</a>'\n",
              "            + ' to learn more about interactive tables.';\n",
              "          element.innerHTML = '';\n",
              "          dataTable['output_type'] = 'display_data';\n",
              "          await google.colab.output.renderOutput(dataTable, element);\n",
              "          const docLink = document.createElement('div');\n",
              "          docLink.innerHTML = docLinkHtml;\n",
              "          element.appendChild(docLink);\n",
              "        }\n",
              "      </script>\n",
              "    </div>\n",
              "  </div>\n",
              "  "
            ]
          },
          "metadata": {},
          "execution_count": 3
        }
      ],
      "source": [
        "# descriptive stats of numerical columns\n",
        "pd.set_option('display.float_format', lambda x: '%.5f' % x)\n",
        "df.describe()"
      ]
    },
    {
      "cell_type": "markdown",
      "source": [
        "This chart shows descriptive stats of the numerical columns of the dataset. The 'count' record shows that not all columns are complete, incdicating the presence of null values in several columns."
      ],
      "metadata": {
        "id": "y30kFnL8RGv_"
      }
    },
    {
      "cell_type": "code",
      "execution_count": null,
      "metadata": {
        "id": "TLyD08cKA9sy",
        "colab": {
          "base_uri": "https://localhost:8080/"
        },
        "outputId": "9bfca03f-c87a-43e2-8b4f-b8fc15feb5bd"
      },
      "outputs": [
        {
          "output_type": "execute_result",
          "data": {
            "text/plain": [
              "historicalreservationid    8033631\n",
              "ordernumber                8033629\n",
              "agency                           7\n",
              "orgid                            7\n",
              "codehierarchy                 3953\n",
              "regioncode                      39\n",
              "regiondescription               37\n",
              "parentlocationid               946\n",
              "parentlocation                 513\n",
              "legacyfacilityid              3474\n",
              "park                          3952\n",
              "sitetype                       219\n",
              "usetype                          4\n",
              "productid                    88234\n",
              "inventorytype                   13\n",
              "facilityid                    4008\n",
              "facilityzip                   1510\n",
              "facilitystate                   49\n",
              "facilitylongitude             3610\n",
              "facilitylatitude              3604\n",
              "customerzip                  84686\n",
              "tax                           2745\n",
              "usefee                           0\n",
              "tranfee                          0\n",
              "attrfee                          0\n",
              "totalbeforetax                6254\n",
              "discount                      2157\n",
              "totalpaid                     8441\n",
              "startdate                     1473\n",
              "enddate                       1828\n",
              "orderdate                  7348001\n",
              "nights                         422\n",
              "numberofpeople                 153\n",
              "equipmentdescription            15\n",
              "equipmentlength                553\n",
              "dtype: int64"
            ]
          },
          "metadata": {},
          "execution_count": 4
        }
      ],
      "source": [
        "df.nunique() #count unique values of each column"
      ]
    },
    {
      "cell_type": "markdown",
      "metadata": {
        "id": "lt-Qs6V0BSyN"
      },
      "source": [
        "From the count of unique values for each column, I gather that there are 7 agencies, 39 regions, 946 parent locations, 3952 parks, 219 site types, 4 use types, 13 inventory types, and 49 states represented in this 2021 reservation dataset."
      ]
    },
    {
      "cell_type": "markdown",
      "source": [
        "From the previous two charts, I can see that three columns are completely blank, 'usefee', 'tranfee', and 'attrfee'."
      ],
      "metadata": {
        "id": "LZ2bnZoZO44G"
      }
    },
    {
      "cell_type": "code",
      "execution_count": null,
      "metadata": {
        "colab": {
          "base_uri": "https://localhost:8080/"
        },
        "id": "iC8nWeb7G31F",
        "outputId": "8f1c8989-b197-40e3-c76f-cd5d0a3ead72"
      },
      "outputs": [
        {
          "output_type": "stream",
          "name": "stdout",
          "text": [
            "NPS      3749948\n",
            "USFS     2545228\n",
            "USACE    1469470\n",
            "BLM       527978\n",
            "NARA       24769\n",
            "BOR        19582\n",
            "FWS        17228\n",
            "Name: agency, dtype: int64\n"
          ]
        }
      ],
      "source": [
        "agency_counts = df['agency'].value_counts()\n",
        "print(agency_counts) #count of reservations under each agency"
      ]
    },
    {
      "cell_type": "markdown",
      "metadata": {
        "id": "2Qs-FepNH_j1"
      },
      "source": [
        "After some quick searches for these acronyms: </br></br>\n",
        "\n",
        "NPS = National Park Service </br>\n",
        "USFS = United States Forest Service </br>\n",
        "USACE = United States Army Corps of Engineers </br>\n",
        "BLM = Bureau of Land Management </br>\n",
        "NARA = National Archives and Records Administration </br>\n",
        "BOR = Bureau of Reclamation </br>\n",
        "FWS = Fish and Wildlife Service </br>"
      ]
    },
    {
      "cell_type": "code",
      "execution_count": null,
      "metadata": {
        "colab": {
          "base_uri": "https://localhost:8080/"
        },
        "id": "so9Kx636Jgct",
        "outputId": "b1955ff4-39a0-4e7d-8f23-3fb2147bc1b5"
      },
      "outputs": [
        {
          "output_type": "execute_result",
          "data": {
            "text/plain": [
              "STANDARD NONELECTRIC     1830699\n",
              "STANDARD ELECTRIC        1392192\n",
              "TENT ONLY NONELECTRIC     395185\n",
              "Nature Hike               368864\n",
              "Historic Tour             343166\n",
              "Cave Tour                 178815\n",
              "RV NONELECTRIC            121521\n",
              "Nature Tour               119004\n",
              "Entry Point               111688\n",
              "Hike                       91031\n",
              "Name: sitetype, dtype: int64"
            ]
          },
          "metadata": {},
          "execution_count": 6
        }
      ],
      "source": [
        "siteType_counts = df['sitetype'].value_counts()\n",
        "siteType_counts.head(10) #top 10 site types by count"
      ]
    },
    {
      "cell_type": "code",
      "execution_count": null,
      "metadata": {
        "colab": {
          "base_uri": "https://localhost:8080/"
        },
        "id": "DVrveqKBLQ29",
        "outputId": "fab785d9-70b1-4776-d165-b31f4d5186d9"
      },
      "outputs": [
        {
          "output_type": "stream",
          "name": "stdout",
          "text": [
            "Overnight    4167108\n",
            "Activity       83019\n",
            "Day            28584\n",
            "Multi             52\n",
            "Name: usetype, dtype: int64\n"
          ]
        }
      ],
      "source": [
        "useType_counts = df['usetype'].value_counts()\n",
        "print(useType_counts) #count of use type"
      ]
    },
    {
      "cell_type": "code",
      "execution_count": null,
      "metadata": {
        "colab": {
          "base_uri": "https://localhost:8080/"
        },
        "id": "cQiCb3HILye2",
        "outputId": "c96801ce-3556-4201-85ad-b13108323b82"
      },
      "outputs": [
        {
          "output_type": "stream",
          "name": "stdout",
          "text": [
            "CAMPING            4195809\n",
            "TIMED_ENTRY        1695191\n",
            "TICKET             1144727\n",
            "PERMIT              570552\n",
            "LOTTERY_PERMIT      357832\n",
            "TREE_PERMIT         171468\n",
            "VEHICLE_PERMIT       84616\n",
            "ACTIVITYPASS         83019\n",
            "LOTTERY_TICKET       27764\n",
            "LOTTERY_CAMPING      12408\n",
            "QUEUE_LOTTERY        10865\n",
            "RENTAL                 282\n",
            "DONATION                20\n",
            "Name: inventorytype, dtype: int64\n"
          ]
        }
      ],
      "source": [
        "inventoryType_counts = df['inventorytype'].value_counts()\n",
        "print(inventoryType_counts) #count of each inventory type"
      ]
    },
    {
      "cell_type": "code",
      "execution_count": null,
      "metadata": {
        "colab": {
          "base_uri": "https://localhost:8080/"
        },
        "id": "rQNjLMDkMTJF",
        "outputId": "c7c78724-ecc4-4cff-f55a-ce741ca671bb"
      },
      "outputs": [
        {
          "output_type": "stream",
          "name": "stdout",
          "text": [
            "California              1061911\n",
            "Colorado                 326069\n",
            "Oregon                   325064\n",
            "Washington               290870\n",
            "Texas                    289284\n",
            "Arizona                  289010\n",
            "Utah                     285194\n",
            "Minnesota                214146\n",
            "Kentucky                 207447\n",
            "Arkansas                 201642\n",
            "North Carolina           198822\n",
            "Tennessee                172082\n",
            "New Mexico               158482\n",
            "Hawaii                   157877\n",
            "Wyoming                  142312\n",
            "Idaho                    130119\n",
            "Montana                  129201\n",
            "Georgia                  119705\n",
            "Oklahoma                 116788\n",
            "Missouri                 113671\n",
            "Pennsylvania              84723\n",
            "Virginia                  79220\n",
            "Michigan                  66439\n",
            "Florida                   64932\n",
            "Illinois                  63815\n",
            "Iowa                      62980\n",
            "Kansas                    60728\n",
            "Mississippi               57270\n",
            "Alabama                   55400\n",
            "Nevada                    53548\n",
            "Alaska                    44177\n",
            "District of Columbia      43862\n",
            "Maryland                  36716\n",
            "South Carolina            36550\n",
            "Maine                     27135\n",
            "West Virginia             27121\n",
            "South Dakota              26486\n",
            "Wisconsin                 20932\n",
            "North Dakota              15486\n",
            "Indiana                   12684\n",
            "New Hampshire             11313\n",
            "Ohio                       9598\n",
            "Nebraska                   7291\n",
            "Vermont                    6904\n",
            "New York                   4587\n",
            "New Jersey                 1893\n",
            "Connecticut                 953\n",
            "Louisiana                   751\n",
            "Massachusetts               353\n",
            "Name: facilitystate, dtype: int64\n"
          ]
        }
      ],
      "source": [
        "state_counts = df['facilitystate'].value_counts()\n",
        "print(state_counts) #count reservations by state"
      ]
    },
    {
      "cell_type": "markdown",
      "metadata": {
        "id": "GP1UOrhtYfRk"
      },
      "source": [
        "48 states and the District of Columbia are represented in this data set. Two US states, Deleware and Rhode Island, are not included."
      ]
    },
    {
      "cell_type": "code",
      "source": [
        "sns.histplot(data=df['totalpaid'], binwidth=10).set_xlim(0, 80)\n",
        "plt.ticklabel_format(style='plain', axis='y')\n",
        "\n",
        "plt.show()"
      ],
      "metadata": {
        "colab": {
          "base_uri": "https://localhost:8080/",
          "height": 285
        },
        "id": "Rt1xkeW5f3P-",
        "outputId": "7103c8a5-11fd-42e7-e217-a43737660cca"
      },
      "execution_count": null,
      "outputs": [
        {
          "output_type": "display_data",
          "data": {
            "text/plain": [
              "<Figure size 432x288 with 1 Axes>"
            ],
            "image/png": "[encoded data removed]"
          },
          "metadata": {
            "needs_background": "light"
          }
        }
      ]
    },
    {
      "cell_type": "markdown",
      "source": [
        "# Cleaning/Wrangling"
      ],
      "metadata": {
        "id": "8R6vVGnHm3f9"
      }
    },
    {
      "cell_type": "code",
      "source": [
        "nf = df\n",
        "nf['numnights'] = nf['nights'].str[0] #add column 'numnights' to remove 'day'/'days' from 'nights'\n",
        "nf['numnights'] = nf['numnights'].astype('int64', errors='ignore')"
      ],
      "metadata": {
        "id": "I4GHnF3um9cr"
      },
      "execution_count": null,
      "outputs": []
    },
    {
      "cell_type": "code",
      "execution_count": null,
      "metadata": {
        "id": "5r2WKlp_ViOZ",
        "colab": {
          "base_uri": "https://localhost:8080/",
          "height": 236
        },
        "outputId": "a4fcc96f-7696-474a-e4f5-61c80b7bfaa5"
      },
      "outputs": [
        {
          "output_type": "execute_result",
          "data": {
            "text/plain": [
              "                historicalreservationid   ordernumber agency     orgid  \\\n",
              "0  edd9085a-a89f-4787-b9ec-e0794e5ac1b4  0201638440-1    BLM 126.00000   \n",
              "1  1d1d4d6a-3d57-47d0-9212-d9a4411555c0  0202157822-1    BLM 126.00000   \n",
              "2  bca72357-5824-4484-9eac-a824f5c00622  0208506393-1    BLM 126.00000   \n",
              "3  cbf1ce58-fb2a-4605-9474-cf27f1ce4052  0208506393-2    BLM 126.00000   \n",
              "4  b3e1899a-aa31-4948-8d47-29af5f6ea85f  0217769313-1    BLM 126.00000   \n",
              "\n",
              "                 codehierarchy regioncode regiondescription parentlocationid  \\\n",
              "0  |1|70901|72193|72194|146090         AK            Alaska            72195   \n",
              "1  |1|70901|72193|72194|146090         AK            Alaska            72195   \n",
              "2  |1|70901|72193|72194|146090         AK            Alaska            72195   \n",
              "3  |1|70901|72193|72194|146090         AK            Alaska            72195   \n",
              "4  |1|70901|72193|72194|146090         AK            Alaska            72195   \n",
              "\n",
              "                             parentlocation  legacyfacilityid  ... discount  \\\n",
              "0  White Mountains National Recreation Area      146090.00000  ...  0.00000   \n",
              "1  White Mountains National Recreation Area      146090.00000  ...  0.00000   \n",
              "2  White Mountains National Recreation Area      146090.00000  ...  0.00000   \n",
              "3  White Mountains National Recreation Area      146090.00000  ...  0.00000   \n",
              "4  White Mountains National Recreation Area      146090.00000  ...  0.00000   \n",
              "\n",
              "  totalpaid                startdate                  enddate  \\\n",
              "0  58.00000  2020-10-08 00:00:00.000  2020-10-10 00:00:00.000   \n",
              "1  33.00000  2020-10-23 00:00:00.000  2020-10-24 00:00:00.000   \n",
              "2  33.00000  2020-10-02 00:00:00.000  2020-10-03 00:00:00.000   \n",
              "3  25.00000  2020-10-03 00:00:00.000  2020-10-04 00:00:00.000   \n",
              "4  18.00000  2020-10-10 00:00:00.000  2020-10-11 00:00:00.000   \n",
              "\n",
              "                 orderdate  nights  numberofpeople equipmentdescription  \\\n",
              "0  2020-09-10 09:16:58.400  2 days         1.00000                  NaN   \n",
              "1  2020-09-28 23:22:18.538   1 day         2.00000                  NaN   \n",
              "2  2020-09-19 01:03:11.146   1 day         0.00000                  NaN   \n",
              "3  2020-09-19 01:03:11.146   1 day         2.00000                  NaN   \n",
              "4  2020-09-16 19:57:02.020   1 day         0.00000                  NaN   \n",
              "\n",
              "   equipmentlength  numnights  \n",
              "0          0.00000          2  \n",
              "1          0.00000          1  \n",
              "2          0.00000          1  \n",
              "3          0.00000          1  \n",
              "4          0.00000          1  \n",
              "\n",
              "[5 rows x 33 columns]"
            ],
            "text/html": [
              "\n",
              "  <div id=\"df-82a4268e-11eb-45a2-92d0-aafd4d967e0d\">\n",
              "    <div class=\"colab-df-container\">\n",
              "      <div>\n",
              "<style scoped>\n",
              "    .dataframe tbody tr th:only-of-type {\n",
              "        vertical-align: middle;\n",
              "    }\n",
              "\n",
              "    .dataframe tbody tr th {\n",
              "        vertical-align: top;\n",
              "    }\n",
              "\n",
              "    .dataframe thead th {\n",
              "        text-align: right;\n",
              "    }\n",
              "</style>\n",
              "<table border=\"1\" class=\"dataframe\">\n",
              "  <thead>\n",
              "    <tr style=\"text-align: right;\">\n",
              "      <th></th>\n",
              "      <th>historicalreservationid</th>\n",
              "      <th>ordernumber</th>\n",
              "      <th>agency</th>\n",
              "      <th>orgid</th>\n",
              "      <th>codehierarchy</th>\n",
              "      <th>regioncode</th>\n",
              "      <th>regiondescription</th>\n",
              "      <th>parentlocationid</th>\n",
              "      <th>parentlocation</th>\n",
              "      <th>legacyfacilityid</th>\n",
              "      <th>...</th>\n",
              "      <th>discount</th>\n",
              "      <th>totalpaid</th>\n",
              "      <th>startdate</th>\n",
              "      <th>enddate</th>\n",
              "      <th>orderdate</th>\n",
              "      <th>nights</th>\n",
              "      <th>numberofpeople</th>\n",
              "      <th>equipmentdescription</th>\n",
              "      <th>equipmentlength</th>\n",
              "      <th>numnights</th>\n",
              "    </tr>\n",
              "  </thead>\n",
              "  <tbody>\n",
              "    <tr>\n",
              "      <th>0</th>\n",
              "      <td>edd9085a-a89f-4787-b9ec-e0794e5ac1b4</td>\n",
              "      <td>0201638440-1</td>\n",
              "      <td>BLM</td>\n",
              "      <td>126.00000</td>\n",
              "      <td>|1|70901|72193|72194|146090</td>\n",
              "      <td>AK</td>\n",
              "      <td>Alaska</td>\n",
              "      <td>72195</td>\n",
              "      <td>White Mountains National Recreation Area</td>\n",
              "      <td>146090.00000</td>\n",
              "      <td>...</td>\n",
              "      <td>0.00000</td>\n",
              "      <td>58.00000</td>\n",
              "      <td>2020-10-08 00:00:00.000</td>\n",
              "      <td>2020-10-10 00:00:00.000</td>\n",
              "      <td>2020-09-10 09:16:58.400</td>\n",
              "      <td>2 days</td>\n",
              "      <td>1.00000</td>\n",
              "      <td>NaN</td>\n",
              "      <td>0.00000</td>\n",
              "      <td>2</td>\n",
              "    </tr>\n",
              "    <tr>\n",
              "      <th>1</th>\n",
              "      <td>1d1d4d6a-3d57-47d0-9212-d9a4411555c0</td>\n",
              "      <td>0202157822-1</td>\n",
              "      <td>BLM</td>\n",
              "      <td>126.00000</td>\n",
              "      <td>|1|70901|72193|72194|146090</td>\n",
              "      <td>AK</td>\n",
              "      <td>Alaska</td>\n",
              "      <td>72195</td>\n",
              "      <td>White Mountains National Recreation Area</td>\n",
              "      <td>146090.00000</td>\n",
              "      <td>...</td>\n",
              "      <td>0.00000</td>\n",
              "      <td>33.00000</td>\n",
              "      <td>2020-10-23 00:00:00.000</td>\n",
              "      <td>2020-10-24 00:00:00.000</td>\n",
              "      <td>2020-09-28 23:22:18.538</td>\n",
              "      <td>1 day</td>\n",
              "      <td>2.00000</td>\n",
              "      <td>NaN</td>\n",
              "      <td>0.00000</td>\n",
              "      <td>1</td>\n",
              "    </tr>\n",
              "    <tr>\n",
              "      <th>2</th>\n",
              "      <td>bca72357-5824-4484-9eac-a824f5c00622</td>\n",
              "      <td>0208506393-1</td>\n",
              "      <td>BLM</td>\n",
              "      <td>126.00000</td>\n",
              "      <td>|1|70901|72193|72194|146090</td>\n",
              "      <td>AK</td>\n",
              "      <td>Alaska</td>\n",
              "      <td>72195</td>\n",
              "      <td>White Mountains National Recreation Area</td>\n",
              "      <td>146090.00000</td>\n",
              "      <td>...</td>\n",
              "      <td>0.00000</td>\n",
              "      <td>33.00000</td>\n",
              "      <td>2020-10-02 00:00:00.000</td>\n",
              "      <td>2020-10-03 00:00:00.000</td>\n",
              "      <td>2020-09-19 01:03:11.146</td>\n",
              "      <td>1 day</td>\n",
              "      <td>0.00000</td>\n",
              "      <td>NaN</td>\n",
              "      <td>0.00000</td>\n",
              "      <td>1</td>\n",
              "    </tr>\n",
              "    <tr>\n",
              "      <th>3</th>\n",
              "      <td>cbf1ce58-fb2a-4605-9474-cf27f1ce4052</td>\n",
              "      <td>0208506393-2</td>\n",
              "      <td>BLM</td>\n",
              "      <td>126.00000</td>\n",
              "      <td>|1|70901|72193|72194|146090</td>\n",
              "      <td>AK</td>\n",
              "      <td>Alaska</td>\n",
              "      <td>72195</td>\n",
              "      <td>White Mountains National Recreation Area</td>\n",
              "      <td>146090.00000</td>\n",
              "      <td>...</td>\n",
              "      <td>0.00000</td>\n",
              "      <td>25.00000</td>\n",
              "      <td>2020-10-03 00:00:00.000</td>\n",
              "      <td>2020-10-04 00:00:00.000</td>\n",
              "      <td>2020-09-19 01:03:11.146</td>\n",
              "      <td>1 day</td>\n",
              "      <td>2.00000</td>\n",
              "      <td>NaN</td>\n",
              "      <td>0.00000</td>\n",
              "      <td>1</td>\n",
              "    </tr>\n",
              "    <tr>\n",
              "      <th>4</th>\n",
              "      <td>b3e1899a-aa31-4948-8d47-29af5f6ea85f</td>\n",
              "      <td>0217769313-1</td>\n",
              "      <td>BLM</td>\n",
              "      <td>126.00000</td>\n",
              "      <td>|1|70901|72193|72194|146090</td>\n",
              "      <td>AK</td>\n",
              "      <td>Alaska</td>\n",
              "      <td>72195</td>\n",
              "      <td>White Mountains National Recreation Area</td>\n",
              "      <td>146090.00000</td>\n",
              "      <td>...</td>\n",
              "      <td>0.00000</td>\n",
              "      <td>18.00000</td>\n",
              "      <td>2020-10-10 00:00:00.000</td>\n",
              "      <td>2020-10-11 00:00:00.000</td>\n",
              "      <td>2020-09-16 19:57:02.020</td>\n",
              "      <td>1 day</td>\n",
              "      <td>0.00000</td>\n",
              "      <td>NaN</td>\n",
              "      <td>0.00000</td>\n",
              "      <td>1</td>\n",
              "    </tr>\n",
              "  </tbody>\n",
              "</table>\n",
              "<p>5 rows × 33 columns</p>\n",
              "</div>\n",
              "      <button class=\"colab-df-convert\" onclick=\"convertToInteractive('df-82a4268e-11eb-45a2-92d0-aafd4d967e0d')\"\n",
              "              title=\"Convert this dataframe to an interactive table.\"\n",
              "              style=\"display:none;\">\n",
              "        \n",
              "  <svg xmlns=\"http://www.w3.org/2000/svg\" height=\"24px\"viewBox=\"0 0 24 24\"\n",
              "       width=\"24px\">\n",
              "    <path d=\"M0 0h24v24H0V0z\" fill=\"none\"/>\n",
              "    <path d=\"M18.56 5.44l.94 2.06.94-2.06 2.06-.94-2.06-.94-.94-2.06-.94 2.06-2.06.94zm-11 1L8.5 8.5l.94-2.06 2.06-.94-2.06-.94L8.5 2.5l-.94 2.06-2.06.94zm10 10l.94 2.06.94-2.06 2.06-.94-2.06-.94-.94-2.06-.94 2.06-2.06.94z\"/><path d=\"M17.41 7.96l-1.37-1.37c-.4-.4-.92-.59-1.43-.59-.52 0-1.04.2-1.43.59L10.3 9.45l-7.72 7.72c-.78.78-.78 2.05 0 2.83L4 21.41c.39.39.9.59 1.41.59.51 0 1.02-.2 1.41-.59l7.78-7.78 2.81-2.81c.8-.78.8-2.07 0-2.86zM5.41 20L4 18.59l7.72-7.72 1.47 1.35L5.41 20z\"/>\n",
              "  </svg>\n",
              "      </button>\n",
              "      \n",
              "  <style>\n",
              "    .colab-df-container {\n",
              "      display:flex;\n",
              "      flex-wrap:wrap;\n",
              "      gap: 12px;\n",
              "    }\n",
              "\n",
              "    .colab-df-convert {\n",
              "      background-color: #E8F0FE;\n",
              "      border: none;\n",
              "      border-radius: 50%;\n",
              "      cursor: pointer;\n",
              "      display: none;\n",
              "      fill: #1967D2;\n",
              "      height: 32px;\n",
              "      padding: 0 0 0 0;\n",
              "      width: 32px;\n",
              "    }\n",
              "\n",
              "    .colab-df-convert:hover {\n",
              "      background-color: #E2EBFA;\n",
              "      box-shadow: 0px 1px 2px rgba(60, 64, 67, 0.3), 0px 1px 3px 1px rgba(60, 64, 67, 0.15);\n",
              "      fill: #174EA6;\n",
              "    }\n",
              "\n",
              "    [theme=dark] .colab-df-convert {\n",
              "      background-color: #3B4455;\n",
              "      fill: #D2E3FC;\n",
              "    }\n",
              "\n",
              "    [theme=dark] .colab-df-convert:hover {\n",
              "      background-color: #434B5C;\n",
              "      box-shadow: 0px 1px 3px 1px rgba(0, 0, 0, 0.15);\n",
              "      filter: drop-shadow(0px 1px 2px rgba(0, 0, 0, 0.3));\n",
              "      fill: #FFFFFF;\n",
              "    }\n",
              "  </style>\n",
              "\n",
              "      <script>\n",
              "        const buttonEl =\n",
              "          document.querySelector('#df-82a4268e-11eb-45a2-92d0-aafd4d967e0d button.colab-df-convert');\n",
              "        buttonEl.style.display =\n",
              "          google.colab.kernel.accessAllowed ? 'block' : 'none';\n",
              "\n",
              "        async function convertToInteractive(key) {\n",
              "          const element = document.querySelector('#df-82a4268e-11eb-45a2-92d0-aafd4d967e0d');\n",
              "          const dataTable =\n",
              "            await google.colab.kernel.invokeFunction('convertToInteractive',\n",
              "                                                     [key], {});\n",
              "          if (!dataTable) return;\n",
              "\n",
              "          const docLinkHtml = 'Like what you see? Visit the ' +\n",
              "            '<a target=\"_blank\" href=https://colab.research.google.com/notebooks/data_table.ipynb>data table notebook</a>'\n",
              "            + ' to learn more about interactive tables.';\n",
              "          element.innerHTML = '';\n",
              "          dataTable['output_type'] = 'display_data';\n",
              "          await google.colab.output.renderOutput(dataTable, element);\n",
              "          const docLink = document.createElement('div');\n",
              "          docLink.innerHTML = docLinkHtml;\n",
              "          element.appendChild(docLink);\n",
              "        }\n",
              "      </script>\n",
              "    </div>\n",
              "  </div>\n",
              "  "
            ]
          },
          "metadata": {},
          "execution_count": 12
        }
      ],
      "source": [
        "nf = nf.drop(columns=['usefee','tranfee','attrfee']) #drop completely null columns\n",
        "nf.head()"
      ]
    },
    {
      "cell_type": "markdown",
      "source": [
        "I want to focus this exploration on specifically camping sites"
      ],
      "metadata": {
        "id": "7PP5c4qCojtN"
      }
    },
    {
      "cell_type": "markdown",
      "source": [
        "## Filtered Values"
      ],
      "metadata": {
        "id": "3utZsZvc2ycd"
      }
    },
    {
      "cell_type": "markdown",
      "source": [
        "I want to only study camping reservations from the national park service."
      ],
      "metadata": {
        "id": "NZV-QXaujH_I"
      }
    },
    {
      "cell_type": "code",
      "source": [
        "isCamping = nf['inventorytype'] == 'CAMPING' #filter down to camping reservations\n",
        "nf = nf[isCamping]\n",
        "nf.shape"
      ],
      "metadata": {
        "id": "kTutW1VGor5d",
        "colab": {
          "base_uri": "https://localhost:8080/"
        },
        "outputId": "a5da5c47-597a-4f20-9261-4a6b79aeb152"
      },
      "execution_count": null,
      "outputs": [
        {
          "output_type": "execute_result",
          "data": {
            "text/plain": [
              "(4195809, 33)"
            ]
          },
          "metadata": {},
          "execution_count": 13
        }
      ]
    },
    {
      "cell_type": "code",
      "source": [
        "print(nf['agency'].value_counts()) #count of reservations under each agency"
      ],
      "metadata": {
        "id": "JU7ZuY55whTm",
        "colab": {
          "base_uri": "https://localhost:8080/"
        },
        "outputId": "960743c8-de68-4d18-99f3-52e402a3940e"
      },
      "execution_count": null,
      "outputs": [
        {
          "output_type": "stream",
          "name": "stdout",
          "text": [
            "USFS     1564843\n",
            "USACE    1437165\n",
            "NPS      1122889\n",
            "BLM        45522\n",
            "BOR        19582\n",
            "FWS         5554\n",
            "Name: agency, dtype: int64\n"
          ]
        }
      ]
    },
    {
      "cell_type": "markdown",
      "source": [
        "I want to focus on the National Park Service"
      ],
      "metadata": {
        "id": "_tS76iXKw1TV"
      }
    },
    {
      "cell_type": "code",
      "source": [
        "isNps = nf['agency'] == 'NPS' #filter down to National Park Service reservations\n",
        "nf = nf[isNps]\n",
        "nf.shape"
      ],
      "metadata": {
        "id": "0_40RISVxB1t",
        "colab": {
          "base_uri": "https://localhost:8080/"
        },
        "outputId": "305abd2e-78c7-4d29-cbb8-ed064ecf0b14"
      },
      "execution_count": null,
      "outputs": [
        {
          "output_type": "execute_result",
          "data": {
            "text/plain": [
              "(1122889, 33)"
            ]
          },
          "metadata": {},
          "execution_count": 15
        }
      ]
    },
    {
      "cell_type": "markdown",
      "source": [
        "I want to view only reservations with a price greater than or equal to 0. From what I can tell, the negative transactions are refunds."
      ],
      "metadata": {
        "id": "rmAIKMnp1bVF"
      }
    },
    {
      "cell_type": "code",
      "source": [
        "isPos = nf['totalpaid'] >= 0 #total paid amount > 0\n",
        "nf = nf[isPos]\n",
        "nf.shape"
      ],
      "metadata": {
        "id": "fERSJow61aLm",
        "colab": {
          "base_uri": "https://localhost:8080/"
        },
        "outputId": "c1d07bde-1bc0-428f-d558-33dc984eaac5"
      },
      "execution_count": null,
      "outputs": [
        {
          "output_type": "execute_result",
          "data": {
            "text/plain": [
              "(1122844, 33)"
            ]
          },
          "metadata": {},
          "execution_count": 16
        }
      ]
    },
    {
      "cell_type": "code",
      "source": [
        "notZero = nf['numberofpeople'] > 0 #number of people/reservation > 0\n",
        "nf = nf[notZero]\n",
        "nf.shape"
      ],
      "metadata": {
        "id": "eYuRawL46sT1",
        "colab": {
          "base_uri": "https://localhost:8080/"
        },
        "outputId": "c2d11c98-9949-4267-f4bf-37f4b7158ab2"
      },
      "execution_count": null,
      "outputs": [
        {
          "output_type": "execute_result",
          "data": {
            "text/plain": [
              "(1120124, 33)"
            ]
          },
          "metadata": {},
          "execution_count": 17
        }
      ]
    },
    {
      "cell_type": "code",
      "source": [
        "print(nf['facilitystate'].value_counts()) #new list of top reserved states"
      ],
      "metadata": {
        "id": "sd-D3NYIQoJm",
        "colab": {
          "base_uri": "https://localhost:8080/"
        },
        "outputId": "03bf5da6-0152-4a6c-9174-665a732eddec"
      },
      "execution_count": null,
      "outputs": [
        {
          "output_type": "stream",
          "name": "stdout",
          "text": [
            "California              287488\n",
            "Utah                     99646\n",
            "Wyoming                  83914\n",
            "North Carolina           71363\n",
            "Washington               71201\n",
            "Arizona                  70050\n",
            "Tennessee                63256\n",
            "Colorado                 53843\n",
            "Virginia                 36290\n",
            "Texas                    35391\n",
            "Michigan                 32275\n",
            "Maryland                 31486\n",
            "Florida                  28590\n",
            "Maine                    26519\n",
            "Montana                  18514\n",
            "Kentucky                 14747\n",
            "Indiana                   9157\n",
            "Minnesota                 7269\n",
            "Missouri                  6851\n",
            "Arkansas                  6644\n",
            "Mississippi               6190\n",
            "Oklahoma                  6085\n",
            "Georgia                   5660\n",
            "Nevada                    4314\n",
            "New Mexico                4012\n",
            "South Carolina            2615\n",
            "North Dakota              2600\n",
            "District of Columbia      1988\n",
            "Wisconsin                 1479\n",
            "Hawaii                    1415\n",
            "New Jersey                1216\n",
            "Pennsylvania               519\n",
            "Alaska                     242\n",
            "West Virginia              213\n",
            "New York                   105\n",
            "Massachusetts              105\n",
            "Ohio                       104\n",
            "Idaho                       98\n",
            "Name: facilitystate, dtype: int64\n"
          ]
        }
      ]
    },
    {
      "cell_type": "markdown",
      "source": [
        "## Null Values"
      ],
      "metadata": {
        "id": "ptxWWmyJ0pr1"
      }
    },
    {
      "cell_type": "code",
      "source": [
        "msno.bar(nf) #charts the number/percent of complete values for each column"
      ],
      "metadata": {
        "id": "Wrz4Kol6IavA",
        "colab": {
          "base_uri": "https://localhost:8080/",
          "height": 809
        },
        "outputId": "e0d2591d-b324-4663-9f22-b163f7bebf39"
      },
      "execution_count": null,
      "outputs": [
        {
          "output_type": "execute_result",
          "data": {
            "text/plain": [
              "<matplotlib.axes._subplots.AxesSubplot at 0x7fac0df79190>"
            ]
          },
          "metadata": {},
          "execution_count": 19
        },
        {
          "output_type": "display_data",
          "data": {
            "text/plain": [
              "<Figure size 1800x720 with 3 Axes>"
            ],
            "image/png": "[encoded data removed]"
          },
          "metadata": {
            "needs_background": "light"
          }
        }
      ]
    },
    {
      "cell_type": "code",
      "execution_count": null,
      "metadata": {
        "id": "De5KpUUy-IhT",
        "colab": {
          "base_uri": "https://localhost:8080/",
          "height": 849
        },
        "outputId": "5a5b2925-5ea1-4d13-a648-7c76f8a2657c"
      },
      "outputs": [
        {
          "output_type": "execute_result",
          "data": {
            "text/plain": [
              "<matplotlib.axes._subplots.AxesSubplot at 0x7fac0b440c90>"
            ]
          },
          "metadata": {},
          "execution_count": 20
        },
        {
          "output_type": "display_data",
          "data": {
            "text/plain": [
              "<Figure size 1440x864 with 2 Axes>"
            ],
            "image/png": "[encoded data removed]"
          },
          "metadata": {
            "needs_background": "light"
          }
        }
      ],
      "source": [
        "msno.heatmap(nf) #correlation in presence of null values between each column"
      ]
    },
    {
      "cell_type": "markdown",
      "source": [
        "The heatmap above shows correlation in the presence of null values between each of the columns in the dataset. A value closer to 1 indicates a strong correlation in the presence of null values. This helps understand why some entries contain null values, and how to handle them in our processing of the data. For example, I can see that 'facilitylatitude' and 'facilitylongitude' have a positive correlation of 1, indicating that every record with null 'facilitylatitude' will also have null 'facilitylongitude'."
      ],
      "metadata": {
        "id": "QBdjX3L6POn-"
      }
    },
    {
      "cell_type": "markdown",
      "source": [
        "# Testing"
      ],
      "metadata": {
        "id": "KO8YfTRZ05x9"
      }
    },
    {
      "cell_type": "markdown",
      "metadata": {
        "id": "TP2HbzflVX8C"
      },
      "source": [
        "## H1: signficant difference in average 'numberofpeople' observed in reservations made from the central region vs other regions"
      ]
    },
    {
      "cell_type": "markdown",
      "source": [
        "H1(0): there is no signficant difference in average 'numberofpeople' observed in reservations made from the central region vs other regions"
      ],
      "metadata": {
        "id": "F2AqQrEK4_nU"
      }
    },
    {
      "cell_type": "code",
      "execution_count": null,
      "metadata": {
        "id": "M9jGreKZWI1i",
        "colab": {
          "base_uri": "https://localhost:8080/"
        },
        "outputId": "6d36e263-392d-438b-9b9f-071cdf933473"
      },
      "outputs": [
        {
          "output_type": "execute_result",
          "data": {
            "text/plain": [
              "(119823, 33)"
            ]
          },
          "metadata": {},
          "execution_count": 21
        }
      ],
      "source": [
        "centralregion = ( (nf['customerzip'] >= '50000') & (nf['customerzip'] <= '79999')) #define central region by zipcodes 50000-79999\n",
        "centralregiondf = nf.iloc[centralregion.values]\n",
        "centralregiondf.dropna()\n",
        "centralregiondf.shape\n",
        "\n"
      ]
    },
    {
      "cell_type": "code",
      "execution_count": null,
      "metadata": {
        "id": "jmIQYm1zaPfa",
        "colab": {
          "base_uri": "https://localhost:8080/"
        },
        "outputId": "358814d4-ef7f-44d5-affc-63231f7b2339"
      },
      "outputs": [
        {
          "output_type": "execute_result",
          "data": {
            "text/plain": [
              "(647140, 33)"
            ]
          },
          "metadata": {},
          "execution_count": 22
        }
      ],
      "source": [
        "otherregion = ((nf['customerzip'] <='49999') | (nf['customerzip'] >= '80000')) # define 'other' region by zipcodes <=49999 or >=80000\n",
        "otherregiondf = nf.iloc[otherregion.values]\n",
        "otherregiondf = otherregiondf.dropna()\n",
        "otherregiondf.shape\n"
      ]
    },
    {
      "cell_type": "code",
      "execution_count": null,
      "metadata": {
        "id": "ci3VDGkbb8qM",
        "colab": {
          "base_uri": "https://localhost:8080/"
        },
        "outputId": "4de96136-9fb6-4249-fcfb-727da6e1c94c"
      },
      "outputs": [
        {
          "output_type": "execute_result",
          "data": {
            "text/plain": [
              "Ttest_indResult(statistic=-17.312109533196292, pvalue=3.9258909946158914e-67)"
            ]
          },
          "metadata": {},
          "execution_count": 23
        }
      ],
      "source": [
        "stats.ttest_ind(centralregiondf['numberofpeople'], otherregiondf['numberofpeople']) #t test between populations"
      ]
    },
    {
      "cell_type": "code",
      "execution_count": null,
      "metadata": {
        "id": "bmTjCOlukNJE",
        "colab": {
          "base_uri": "https://localhost:8080/"
        },
        "outputId": "2d0ddea8-d791-45e2-e9c5-ade56c7f165f"
      },
      "outputs": [
        {
          "output_type": "stream",
          "name": "stdout",
          "text": [
            "margin of error:\n",
            "0.02062123563047981\n",
            "The difference in means at the 95% confidence interval (two-tail) is between 0.14315917614872253 and 0.18440164740968212.\n"
          ]
        }
      ],
      "source": [
        "import math\n",
        "def c95_ci(array_1, array_2):\n",
        "    sample_1_n = array_1.shape[0]\n",
        "    sample_2_n = array_2.shape[0]\n",
        "    sample_1_mean = array_1.mean()\n",
        "    sample_2_mean = array_2.mean()\n",
        "    sample_1_var = array_1.var()\n",
        "    sample_2_var = array_2.var()\n",
        "    mean_difference = sample_2_mean - sample_1_mean\n",
        "    std_err_difference = math.sqrt((sample_1_var/sample_1_n)+(sample_2_var/sample_2_n))\n",
        "    margin_of_error = 1.96 * std_err_difference\n",
        "    ci_lower = mean_difference - margin_of_error\n",
        "    ci_upper = mean_difference + margin_of_error\n",
        "    print(\"margin of error:\")\n",
        "    print(margin_of_error)\n",
        "    return(\"The difference in means at the 95% confidence interval (two-tail) is between \"+str(ci_lower)+\" and \"+str(ci_upper)+\".\")\n",
        "\n",
        "print(c95_ci(centralregiondf['numberofpeople'], otherregiondf['numberofpeople']))"
      ]
    },
    {
      "cell_type": "code",
      "execution_count": null,
      "metadata": {
        "id": "8HgbshwpkVk6",
        "colab": {
          "base_uri": "https://localhost:8080/",
          "height": 275
        },
        "outputId": "2af744b5-1e68-4ea7-82b8-570096dcf10b"
      },
      "outputs": [
        {
          "output_type": "execute_result",
          "data": {
            "text/plain": [
              "[(0.0, 5.0)]"
            ]
          },
          "metadata": {},
          "execution_count": 25
        },
        {
          "output_type": "display_data",
          "data": {
            "text/plain": [
              "<Figure size 432x288 with 1 Axes>"
            ],
            "image/png": "[encoded data removed]"
          },
          "metadata": {
            "needs_background": "light"
          }
        }
      ],
      "source": [
        "sns.barplot(y='numberofpeople', data = (centralregiondf), ci=0.021).set(ylim=(0, 5)) #average number of people/reservation central region"
      ]
    },
    {
      "cell_type": "code",
      "execution_count": null,
      "metadata": {
        "id": "FCPHKDqZnvtS",
        "colab": {
          "base_uri": "https://localhost:8080/",
          "height": 275
        },
        "outputId": "aaf80917-d43d-4ea2-8d92-5a5832666c96"
      },
      "outputs": [
        {
          "output_type": "execute_result",
          "data": {
            "text/plain": [
              "[(0.0, 5.0)]"
            ]
          },
          "metadata": {},
          "execution_count": 26
        },
        {
          "output_type": "display_data",
          "data": {
            "text/plain": [
              "<Figure size 432x288 with 1 Axes>"
            ],
            "image/png": "[encoded data removed]"
          },
          "metadata": {
            "needs_background": "light"
          }
        }
      ],
      "source": [
        "sns.barplot(y='numberofpeople', data=otherregiondf, ci=0.021).set(ylim=(0, 5)) #average number of people/reservation outside central region"
      ]
    },
    {
      "cell_type": "code",
      "source": [
        "print(centralregiondf.describe())\n",
        "print(otherregiondf.describe())"
      ],
      "metadata": {
        "id": "olhUtpAHECvl",
        "colab": {
          "base_uri": "https://localhost:8080/"
        },
        "outputId": "9e4cf9b3-c58f-4d62-c265-6c64a3c6b4ef"
      },
      "execution_count": null,
      "outputs": [
        {
          "output_type": "stream",
          "name": "stdout",
          "text": [
            "             orgid  legacyfacilityid  facilityzip  facilitylongitude  \\\n",
            "count 119823.00000      109039.00000 118238.00000       118506.00000   \n",
            "mean     128.00000      185526.05008  68546.75506         -101.19320   \n",
            "std        0.00000      894271.84198  22102.52617           13.59310   \n",
            "min      128.00000       70851.00000   2667.00000         -156.21841   \n",
            "25%      128.00000       70971.00000  49839.00000         -112.12047   \n",
            "50%      128.00000       74044.00000  79834.00000         -103.30417   \n",
            "75%      128.00000       97219.00000  84532.00000          -88.79552   \n",
            "max      128.00000    10124953.00000  99664.00000            0.00000   \n",
            "\n",
            "       facilitylatitude          tax  totalbeforetax     discount  \\\n",
            "count      118506.00000 119823.00000    119823.00000 119823.00000   \n",
            "mean           38.02925      0.60098        43.62203     -5.26225   \n",
            "std             6.11895      2.93884        51.07878     19.02071   \n",
            "min             0.00000      0.00000        -6.00000   -320.00000   \n",
            "25%            35.23459      0.00000        16.00000      0.00000   \n",
            "50%            37.19861      0.00000        26.00000      0.00000   \n",
            "75%            43.62046      0.00000        50.00000      0.00000   \n",
            "max            60.30933    171.60000      1560.00000      8.00000   \n",
            "\n",
            "         totalpaid  numberofpeople  equipmentlength  \n",
            "count 119823.00000    119823.00000     119823.00000  \n",
            "mean      38.90984         3.29587         50.34599  \n",
            "std       44.18224         3.41734      12818.01291  \n",
            "min        0.00000         1.00000          0.00000  \n",
            "25%       10.00000         2.00000          0.00000  \n",
            "50%       25.00000         2.00000          0.00000  \n",
            "75%       48.00000         4.00000         20.00000  \n",
            "max     1731.60000       150.00000    4424242.00000  \n",
            "             orgid  legacyfacilityid  facilityzip  facilitylongitude  \\\n",
            "count 647140.00000      647140.00000 647140.00000       647140.00000   \n",
            "mean     128.00000      306107.40714  73466.30597         -106.23434   \n",
            "std        0.00000     1415171.05222  27773.24580           16.23358   \n",
            "min      128.00000       70851.00000   4645.00000         -155.43084   \n",
            "25%      128.00000       70952.00000  49640.00000         -118.76260   \n",
            "50%      128.00000       72293.00000  84767.00000         -112.16694   \n",
            "75%      128.00000      111991.00000  93628.00000          -87.27417   \n",
            "max      128.00000    10124502.00000  99613.00000          -68.06836   \n",
            "\n",
            "       facilitylatitude          tax  totalbeforetax     discount  \\\n",
            "count      647140.00000 647140.00000    647140.00000 647140.00000   \n",
            "mean           38.39226      0.65739        41.03296     -4.77528   \n",
            "std             4.41514      3.49700        48.67441     16.69484   \n",
            "min            25.85139      0.00000         0.00000   -546.00000   \n",
            "25%            36.03894      0.00000        10.00000      0.00000   \n",
            "50%            37.20167      0.00000        26.00000      0.00000   \n",
            "75%            40.32917      0.00000        50.00000      0.00000   \n",
            "max            58.66950    652.08000      5928.00000     90.00000   \n",
            "\n",
            "         totalpaid  numberofpeople  equipmentlength  \n",
            "count 647140.00000    647140.00000     647140.00000  \n",
            "mean      36.83531         3.45965       2730.57055  \n",
            "std       44.53636         2.92607    1485739.04081  \n",
            "min        0.00000         1.00000          0.00000  \n",
            "25%       10.00000         2.00000          0.00000  \n",
            "50%       25.00000         2.00000          0.00000  \n",
            "75%       45.00000         4.00000         20.00000  \n",
            "max     6580.08000       150.00000 1110110110.00000  \n"
          ]
        }
      ]
    },
    {
      "cell_type": "markdown",
      "metadata": {
        "id": "ifPBP9o3oqED"
      },
      "source": [
        "## H2: Significant difference in average 'totalprice' observed in reservations made in California vs other regions"
      ]
    },
    {
      "cell_type": "markdown",
      "source": [
        "H2(0): No significant difference in average 'totalprice' observed in reservations made in California vs other regions"
      ],
      "metadata": {
        "id": "IM2YAVx8j59P"
      }
    },
    {
      "cell_type": "code",
      "execution_count": null,
      "metadata": {
        "id": "rLOR9Hz6ov16"
      },
      "outputs": [],
      "source": [
        "ca = (nf['facilitystate'] == 'California') #make new data frame containing california reservations\n",
        "ca = nf.iloc[ca.values]\n",
        "ca = ca.dropna()"
      ]
    },
    {
      "cell_type": "code",
      "execution_count": null,
      "metadata": {
        "id": "ls8MqMoipea8"
      },
      "outputs": [],
      "source": [
        "otherstate = (nf['facilitystate'] != 'California') #new data frame containing not california reservations\n",
        "otherstate = nf.iloc[otherstate.values]\n",
        "otherstate = otherstate.dropna()"
      ]
    },
    {
      "cell_type": "code",
      "execution_count": null,
      "metadata": {
        "id": "k21aqAUgpudL",
        "colab": {
          "base_uri": "https://localhost:8080/"
        },
        "outputId": "d3143eb1-2cc0-4c77-da25-cb30635058ba"
      },
      "outputs": [
        {
          "output_type": "execute_result",
          "data": {
            "text/plain": [
              "Ttest_indResult(statistic=-66.34573738929012, pvalue=0.0)"
            ]
          },
          "metadata": {},
          "execution_count": 30
        }
      ],
      "source": [
        "stats.ttest_ind(ca['totalpaid'], otherstate['totalpaid']) #t test to test difference in average totalpaid\n"
      ]
    },
    {
      "cell_type": "code",
      "execution_count": null,
      "metadata": {
        "id": "TK6sN4XMscZA",
        "colab": {
          "base_uri": "https://localhost:8080/",
          "height": 70
        },
        "outputId": "4af70bc5-99fa-4299-bb8b-1c6fd6545d71"
      },
      "outputs": [
        {
          "output_type": "stream",
          "name": "stdout",
          "text": [
            "margin of error:\n",
            "0.1963334830960746\n"
          ]
        },
        {
          "output_type": "execute_result",
          "data": {
            "text/plain": [
              "'The difference in means at the 95% confidence interval (two-tail) is between 7.307007318885896 and 7.699674285078045.'"
            ],
            "application/vnd.google.colaboratory.intrinsic+json": {
              "type": "string"
            }
          },
          "metadata": {},
          "execution_count": 31
        }
      ],
      "source": [
        "c95_ci(ca['totalpaid'], otherstate['totalpaid']) # calculate the 95 percend confidence interval"
      ]
    },
    {
      "cell_type": "code",
      "execution_count": null,
      "metadata": {
        "id": "3mux-IM2u6Iw",
        "colab": {
          "base_uri": "https://localhost:8080/",
          "height": 275
        },
        "outputId": "5ae358a3-5fc4-48e8-efb1-84d339f50b0c"
      },
      "outputs": [
        {
          "output_type": "execute_result",
          "data": {
            "text/plain": [
              "[(0.0, 45.0)]"
            ]
          },
          "metadata": {},
          "execution_count": 32
        },
        {
          "output_type": "display_data",
          "data": {
            "text/plain": [
              "<Figure size 432x288 with 1 Axes>"
            ],
            "image/png": "[encoded data removed]"
          },
          "metadata": {
            "needs_background": "light"
          }
        }
      ],
      "source": [
        "sns.barplot(y='totalpaid', data=ca, ci=0.196).set(ylim=(0, 45)) #plot average total paid in california"
      ]
    },
    {
      "cell_type": "code",
      "execution_count": null,
      "metadata": {
        "id": "_C4-YI1CvDKC",
        "colab": {
          "base_uri": "https://localhost:8080/",
          "height": 275
        },
        "outputId": "894d30d9-5d46-432b-899a-bcb9afed2dee"
      },
      "outputs": [
        {
          "output_type": "execute_result",
          "data": {
            "text/plain": [
              "[(0.0, 45.0)]"
            ]
          },
          "metadata": {},
          "execution_count": 33
        },
        {
          "output_type": "display_data",
          "data": {
            "text/plain": [
              "<Figure size 432x288 with 1 Axes>"
            ],
            "image/png": "[encoded data removed]"
          },
          "metadata": {
            "needs_background": "light"
          }
        }
      ],
      "source": [
        "sns.barplot(y='totalpaid', data=otherstate, ci=0.196).set(ylim=(0, 45)) #plot average total paid outside california"
      ]
    },
    {
      "cell_type": "code",
      "execution_count": null,
      "metadata": {
        "id": "2iudR1Zxvbsq",
        "colab": {
          "base_uri": "https://localhost:8080/",
          "height": 300
        },
        "outputId": "eb62bfa6-e43f-4793-bbe3-f67748ae593f"
      },
      "outputs": [
        {
          "output_type": "execute_result",
          "data": {
            "text/plain": [
              "             orgid  legacyfacilityid  facilityzip  facilitylongitude  \\\n",
              "count 219037.00000      219037.00000 219037.00000       219037.00000   \n",
              "mean     128.00000      596480.85551  93952.80311         -118.87632   \n",
              "std        0.00000     2193973.12680   1393.46155            2.04394   \n",
              "min      128.00000       70924.00000  90704.00000         -122.97500   \n",
              "25%      128.00000       70941.00000  92328.00000         -119.66500   \n",
              "50%      128.00000       70980.00000  93633.00000         -118.96533   \n",
              "75%      128.00000       74186.00000  95389.00000         -116.86778   \n",
              "max      128.00000    10124502.00000  96088.00000         -115.82500   \n",
              "\n",
              "       facilitylatitude          tax  totalbeforetax     discount  \\\n",
              "count      219037.00000 219037.00000    219037.00000 219037.00000   \n",
              "mean           36.47742      0.58919        33.94489     -2.47667   \n",
              "std             1.85472      2.92952        36.57230     10.52340   \n",
              "min            33.47985      0.00000         0.00000   -281.50000   \n",
              "25%            34.12000      0.00000        10.00000      0.00000   \n",
              "50%            36.60671      0.00000        25.00000      0.00000   \n",
              "75%            37.73611      0.00000        44.00000      0.00000   \n",
              "max            40.62556     77.40000       800.00000      0.00000   \n",
              "\n",
              "         totalpaid  numberofpeople  equipmentlength  \n",
              "count 219037.00000    219037.00000     219037.00000  \n",
              "mean      31.84870         3.73637         19.20307  \n",
              "std       35.38115         2.46268       3631.14163  \n",
              "min        0.00000         1.00000          0.00000  \n",
              "25%       10.00000         2.00000          0.00000  \n",
              "50%       22.00000         3.00000          0.00000  \n",
              "75%       44.00000         6.00000         16.00000  \n",
              "max      800.00000        60.00000    1212130.00000  "
            ],
            "text/html": [
              "\n",
              "  <div id=\"df-5bc1ee2e-74db-4507-a840-4313f5cbf474\">\n",
              "    <div class=\"colab-df-container\">\n",
              "      <div>\n",
              "<style scoped>\n",
              "    .dataframe tbody tr th:only-of-type {\n",
              "        vertical-align: middle;\n",
              "    }\n",
              "\n",
              "    .dataframe tbody tr th {\n",
              "        vertical-align: top;\n",
              "    }\n",
              "\n",
              "    .dataframe thead th {\n",
              "        text-align: right;\n",
              "    }\n",
              "</style>\n",
              "<table border=\"1\" class=\"dataframe\">\n",
              "  <thead>\n",
              "    <tr style=\"text-align: right;\">\n",
              "      <th></th>\n",
              "      <th>orgid</th>\n",
              "      <th>legacyfacilityid</th>\n",
              "      <th>facilityzip</th>\n",
              "      <th>facilitylongitude</th>\n",
              "      <th>facilitylatitude</th>\n",
              "      <th>tax</th>\n",
              "      <th>totalbeforetax</th>\n",
              "      <th>discount</th>\n",
              "      <th>totalpaid</th>\n",
              "      <th>numberofpeople</th>\n",
              "      <th>equipmentlength</th>\n",
              "    </tr>\n",
              "  </thead>\n",
              "  <tbody>\n",
              "    <tr>\n",
              "      <th>count</th>\n",
              "      <td>219037.00000</td>\n",
              "      <td>219037.00000</td>\n",
              "      <td>219037.00000</td>\n",
              "      <td>219037.00000</td>\n",
              "      <td>219037.00000</td>\n",
              "      <td>219037.00000</td>\n",
              "      <td>219037.00000</td>\n",
              "      <td>219037.00000</td>\n",
              "      <td>219037.00000</td>\n",
              "      <td>219037.00000</td>\n",
              "      <td>219037.00000</td>\n",
              "    </tr>\n",
              "    <tr>\n",
              "      <th>mean</th>\n",
              "      <td>128.00000</td>\n",
              "      <td>596480.85551</td>\n",
              "      <td>93952.80311</td>\n",
              "      <td>-118.87632</td>\n",
              "      <td>36.47742</td>\n",
              "      <td>0.58919</td>\n",
              "      <td>33.94489</td>\n",
              "      <td>-2.47667</td>\n",
              "      <td>31.84870</td>\n",
              "      <td>3.73637</td>\n",
              "      <td>19.20307</td>\n",
              "    </tr>\n",
              "    <tr>\n",
              "      <th>std</th>\n",
              "      <td>0.00000</td>\n",
              "      <td>2193973.12680</td>\n",
              "      <td>1393.46155</td>\n",
              "      <td>2.04394</td>\n",
              "      <td>1.85472</td>\n",
              "      <td>2.92952</td>\n",
              "      <td>36.57230</td>\n",
              "      <td>10.52340</td>\n",
              "      <td>35.38115</td>\n",
              "      <td>2.46268</td>\n",
              "      <td>3631.14163</td>\n",
              "    </tr>\n",
              "    <tr>\n",
              "      <th>min</th>\n",
              "      <td>128.00000</td>\n",
              "      <td>70924.00000</td>\n",
              "      <td>90704.00000</td>\n",
              "      <td>-122.97500</td>\n",
              "      <td>33.47985</td>\n",
              "      <td>0.00000</td>\n",
              "      <td>0.00000</td>\n",
              "      <td>-281.50000</td>\n",
              "      <td>0.00000</td>\n",
              "      <td>1.00000</td>\n",
              "      <td>0.00000</td>\n",
              "    </tr>\n",
              "    <tr>\n",
              "      <th>25%</th>\n",
              "      <td>128.00000</td>\n",
              "      <td>70941.00000</td>\n",
              "      <td>92328.00000</td>\n",
              "      <td>-119.66500</td>\n",
              "      <td>34.12000</td>\n",
              "      <td>0.00000</td>\n",
              "      <td>10.00000</td>\n",
              "      <td>0.00000</td>\n",
              "      <td>10.00000</td>\n",
              "      <td>2.00000</td>\n",
              "      <td>0.00000</td>\n",
              "    </tr>\n",
              "    <tr>\n",
              "      <th>50%</th>\n",
              "      <td>128.00000</td>\n",
              "      <td>70980.00000</td>\n",
              "      <td>93633.00000</td>\n",
              "      <td>-118.96533</td>\n",
              "      <td>36.60671</td>\n",
              "      <td>0.00000</td>\n",
              "      <td>25.00000</td>\n",
              "      <td>0.00000</td>\n",
              "      <td>22.00000</td>\n",
              "      <td>3.00000</td>\n",
              "      <td>0.00000</td>\n",
              "    </tr>\n",
              "    <tr>\n",
              "      <th>75%</th>\n",
              "      <td>128.00000</td>\n",
              "      <td>74186.00000</td>\n",
              "      <td>95389.00000</td>\n",
              "      <td>-116.86778</td>\n",
              "      <td>37.73611</td>\n",
              "      <td>0.00000</td>\n",
              "      <td>44.00000</td>\n",
              "      <td>0.00000</td>\n",
              "      <td>44.00000</td>\n",
              "      <td>6.00000</td>\n",
              "      <td>16.00000</td>\n",
              "    </tr>\n",
              "    <tr>\n",
              "      <th>max</th>\n",
              "      <td>128.00000</td>\n",
              "      <td>10124502.00000</td>\n",
              "      <td>96088.00000</td>\n",
              "      <td>-115.82500</td>\n",
              "      <td>40.62556</td>\n",
              "      <td>77.40000</td>\n",
              "      <td>800.00000</td>\n",
              "      <td>0.00000</td>\n",
              "      <td>800.00000</td>\n",
              "      <td>60.00000</td>\n",
              "      <td>1212130.00000</td>\n",
              "    </tr>\n",
              "  </tbody>\n",
              "</table>\n",
              "</div>\n",
              "      <button class=\"colab-df-convert\" onclick=\"convertToInteractive('df-5bc1ee2e-74db-4507-a840-4313f5cbf474')\"\n",
              "              title=\"Convert this dataframe to an interactive table.\"\n",
              "              style=\"display:none;\">\n",
              "        \n",
              "  <svg xmlns=\"http://www.w3.org/2000/svg\" height=\"24px\"viewBox=\"0 0 24 24\"\n",
              "       width=\"24px\">\n",
              "    <path d=\"M0 0h24v24H0V0z\" fill=\"none\"/>\n",
              "    <path d=\"M18.56 5.44l.94 2.06.94-2.06 2.06-.94-2.06-.94-.94-2.06-.94 2.06-2.06.94zm-11 1L8.5 8.5l.94-2.06 2.06-.94-2.06-.94L8.5 2.5l-.94 2.06-2.06.94zm10 10l.94 2.06.94-2.06 2.06-.94-2.06-.94-.94-2.06-.94 2.06-2.06.94z\"/><path d=\"M17.41 7.96l-1.37-1.37c-.4-.4-.92-.59-1.43-.59-.52 0-1.04.2-1.43.59L10.3 9.45l-7.72 7.72c-.78.78-.78 2.05 0 2.83L4 21.41c.39.39.9.59 1.41.59.51 0 1.02-.2 1.41-.59l7.78-7.78 2.81-2.81c.8-.78.8-2.07 0-2.86zM5.41 20L4 18.59l7.72-7.72 1.47 1.35L5.41 20z\"/>\n",
              "  </svg>\n",
              "      </button>\n",
              "      \n",
              "  <style>\n",
              "    .colab-df-container {\n",
              "      display:flex;\n",
              "      flex-wrap:wrap;\n",
              "      gap: 12px;\n",
              "    }\n",
              "\n",
              "    .colab-df-convert {\n",
              "      background-color: #E8F0FE;\n",
              "      border: none;\n",
              "      border-radius: 50%;\n",
              "      cursor: pointer;\n",
              "      display: none;\n",
              "      fill: #1967D2;\n",
              "      height: 32px;\n",
              "      padding: 0 0 0 0;\n",
              "      width: 32px;\n",
              "    }\n",
              "\n",
              "    .colab-df-convert:hover {\n",
              "      background-color: #E2EBFA;\n",
              "      box-shadow: 0px 1px 2px rgba(60, 64, 67, 0.3), 0px 1px 3px 1px rgba(60, 64, 67, 0.15);\n",
              "      fill: #174EA6;\n",
              "    }\n",
              "\n",
              "    [theme=dark] .colab-df-convert {\n",
              "      background-color: #3B4455;\n",
              "      fill: #D2E3FC;\n",
              "    }\n",
              "\n",
              "    [theme=dark] .colab-df-convert:hover {\n",
              "      background-color: #434B5C;\n",
              "      box-shadow: 0px 1px 3px 1px rgba(0, 0, 0, 0.15);\n",
              "      filter: drop-shadow(0px 1px 2px rgba(0, 0, 0, 0.3));\n",
              "      fill: #FFFFFF;\n",
              "    }\n",
              "  </style>\n",
              "\n",
              "      <script>\n",
              "        const buttonEl =\n",
              "          document.querySelector('#df-5bc1ee2e-74db-4507-a840-4313f5cbf474 button.colab-df-convert');\n",
              "        buttonEl.style.display =\n",
              "          google.colab.kernel.accessAllowed ? 'block' : 'none';\n",
              "\n",
              "        async function convertToInteractive(key) {\n",
              "          const element = document.querySelector('#df-5bc1ee2e-74db-4507-a840-4313f5cbf474');\n",
              "          const dataTable =\n",
              "            await google.colab.kernel.invokeFunction('convertToInteractive',\n",
              "                                                     [key], {});\n",
              "          if (!dataTable) return;\n",
              "\n",
              "          const docLinkHtml = 'Like what you see? Visit the ' +\n",
              "            '<a target=\"_blank\" href=https://colab.research.google.com/notebooks/data_table.ipynb>data table notebook</a>'\n",
              "            + ' to learn more about interactive tables.';\n",
              "          element.innerHTML = '';\n",
              "          dataTable['output_type'] = 'display_data';\n",
              "          await google.colab.output.renderOutput(dataTable, element);\n",
              "          const docLink = document.createElement('div');\n",
              "          docLink.innerHTML = docLinkHtml;\n",
              "          element.appendChild(docLink);\n",
              "        }\n",
              "      </script>\n",
              "    </div>\n",
              "  </div>\n",
              "  "
            ]
          },
          "metadata": {},
          "execution_count": 34
        }
      ],
      "source": [
        "ca.describe() #key stats for california rentals\n"
      ]
    },
    {
      "cell_type": "code",
      "execution_count": null,
      "metadata": {
        "id": "9gqdr1NvvxNZ",
        "colab": {
          "base_uri": "https://localhost:8080/",
          "height": 300
        },
        "outputId": "ee5a3179-af24-486c-b9f6-b13d1eda85cd"
      },
      "outputs": [
        {
          "output_type": "execute_result",
          "data": {
            "text/plain": [
              "             orgid  legacyfacilityid  facilityzip  facilitylongitude  \\\n",
              "count 528558.00000      528558.00000 528558.00000       528558.00000   \n",
              "mean     128.00000      161674.44709  64286.59656         -100.30644   \n",
              "std        0.00000      737469.33308  28036.83843           15.95730   \n",
              "min      128.00000       70851.00000   4645.00000         -155.43084   \n",
              "25%      128.00000       70968.00000  37738.00000         -112.12047   \n",
              "50%      128.00000       73985.00000  81146.00000         -108.73286   \n",
              "75%      128.00000      111991.00000  84767.00000          -83.77667   \n",
              "max      128.00000    10101374.00000  99613.00000          -68.06836   \n",
              "\n",
              "       facilitylatitude          tax  totalbeforetax     discount  \\\n",
              "count      528558.00000 528558.00000    528558.00000 528558.00000   \n",
              "mean           39.04375      0.69596        44.62031     -5.94509   \n",
              "std             5.13228      3.65284        53.36557     19.25494   \n",
              "min            25.85139      0.00000        -6.00000   -546.00000   \n",
              "25%            36.03894      0.00000        17.50000      0.00000   \n",
              "50%            37.74465      0.00000        30.00000      0.00000   \n",
              "75%            43.84077      0.00000        54.00000      0.00000   \n",
              "max            58.66950    652.08000      5928.00000     90.00000   \n",
              "\n",
              "         totalpaid  numberofpeople  equipmentlength  \n",
              "count 528558.00000    528558.00000     528558.00000  \n",
              "mean      39.35204         3.28881       3346.45063  \n",
              "std       47.77868         3.08736    1643984.78906  \n",
              "min        0.00000         1.00000          0.00000  \n",
              "25%       10.00000         2.00000          0.00000  \n",
              "50%       25.00000         2.00000          0.00000  \n",
              "75%       48.00000         4.00000         21.00000  \n",
              "max     6580.08000       150.00000 1110110110.00000  "
            ],
            "text/html": [
              "\n",
              "  <div id=\"df-498efe7a-9b7c-499e-ac45-3431a15a7ae9\">\n",
              "    <div class=\"colab-df-container\">\n",
              "      <div>\n",
              "<style scoped>\n",
              "    .dataframe tbody tr th:only-of-type {\n",
              "        vertical-align: middle;\n",
              "    }\n",
              "\n",
              "    .dataframe tbody tr th {\n",
              "        vertical-align: top;\n",
              "    }\n",
              "\n",
              "    .dataframe thead th {\n",
              "        text-align: right;\n",
              "    }\n",
              "</style>\n",
              "<table border=\"1\" class=\"dataframe\">\n",
              "  <thead>\n",
              "    <tr style=\"text-align: right;\">\n",
              "      <th></th>\n",
              "      <th>orgid</th>\n",
              "      <th>legacyfacilityid</th>\n",
              "      <th>facilityzip</th>\n",
              "      <th>facilitylongitude</th>\n",
              "      <th>facilitylatitude</th>\n",
              "      <th>tax</th>\n",
              "      <th>totalbeforetax</th>\n",
              "      <th>discount</th>\n",
              "      <th>totalpaid</th>\n",
              "      <th>numberofpeople</th>\n",
              "      <th>equipmentlength</th>\n",
              "    </tr>\n",
              "  </thead>\n",
              "  <tbody>\n",
              "    <tr>\n",
              "      <th>count</th>\n",
              "      <td>528558.00000</td>\n",
              "      <td>528558.00000</td>\n",
              "      <td>528558.00000</td>\n",
              "      <td>528558.00000</td>\n",
              "      <td>528558.00000</td>\n",
              "      <td>528558.00000</td>\n",
              "      <td>528558.00000</td>\n",
              "      <td>528558.00000</td>\n",
              "      <td>528558.00000</td>\n",
              "      <td>528558.00000</td>\n",
              "      <td>528558.00000</td>\n",
              "    </tr>\n",
              "    <tr>\n",
              "      <th>mean</th>\n",
              "      <td>128.00000</td>\n",
              "      <td>161674.44709</td>\n",
              "      <td>64286.59656</td>\n",
              "      <td>-100.30644</td>\n",
              "      <td>39.04375</td>\n",
              "      <td>0.69596</td>\n",
              "      <td>44.62031</td>\n",
              "      <td>-5.94509</td>\n",
              "      <td>39.35204</td>\n",
              "      <td>3.28881</td>\n",
              "      <td>3346.45063</td>\n",
              "    </tr>\n",
              "    <tr>\n",
              "      <th>std</th>\n",
              "      <td>0.00000</td>\n",
              "      <td>737469.33308</td>\n",
              "      <td>28036.83843</td>\n",
              "      <td>15.95730</td>\n",
              "      <td>5.13228</td>\n",
              "      <td>3.65284</td>\n",
              "      <td>53.36557</td>\n",
              "      <td>19.25494</td>\n",
              "      <td>47.77868</td>\n",
              "      <td>3.08736</td>\n",
              "      <td>1643984.78906</td>\n",
              "    </tr>\n",
              "    <tr>\n",
              "      <th>min</th>\n",
              "      <td>128.00000</td>\n",
              "      <td>70851.00000</td>\n",
              "      <td>4645.00000</td>\n",
              "      <td>-155.43084</td>\n",
              "      <td>25.85139</td>\n",
              "      <td>0.00000</td>\n",
              "      <td>-6.00000</td>\n",
              "      <td>-546.00000</td>\n",
              "      <td>0.00000</td>\n",
              "      <td>1.00000</td>\n",
              "      <td>0.00000</td>\n",
              "    </tr>\n",
              "    <tr>\n",
              "      <th>25%</th>\n",
              "      <td>128.00000</td>\n",
              "      <td>70968.00000</td>\n",
              "      <td>37738.00000</td>\n",
              "      <td>-112.12047</td>\n",
              "      <td>36.03894</td>\n",
              "      <td>0.00000</td>\n",
              "      <td>17.50000</td>\n",
              "      <td>0.00000</td>\n",
              "      <td>10.00000</td>\n",
              "      <td>2.00000</td>\n",
              "      <td>0.00000</td>\n",
              "    </tr>\n",
              "    <tr>\n",
              "      <th>50%</th>\n",
              "      <td>128.00000</td>\n",
              "      <td>73985.00000</td>\n",
              "      <td>81146.00000</td>\n",
              "      <td>-108.73286</td>\n",
              "      <td>37.74465</td>\n",
              "      <td>0.00000</td>\n",
              "      <td>30.00000</td>\n",
              "      <td>0.00000</td>\n",
              "      <td>25.00000</td>\n",
              "      <td>2.00000</td>\n",
              "      <td>0.00000</td>\n",
              "    </tr>\n",
              "    <tr>\n",
              "      <th>75%</th>\n",
              "      <td>128.00000</td>\n",
              "      <td>111991.00000</td>\n",
              "      <td>84767.00000</td>\n",
              "      <td>-83.77667</td>\n",
              "      <td>43.84077</td>\n",
              "      <td>0.00000</td>\n",
              "      <td>54.00000</td>\n",
              "      <td>0.00000</td>\n",
              "      <td>48.00000</td>\n",
              "      <td>4.00000</td>\n",
              "      <td>21.00000</td>\n",
              "    </tr>\n",
              "    <tr>\n",
              "      <th>max</th>\n",
              "      <td>128.00000</td>\n",
              "      <td>10101374.00000</td>\n",
              "      <td>99613.00000</td>\n",
              "      <td>-68.06836</td>\n",
              "      <td>58.66950</td>\n",
              "      <td>652.08000</td>\n",
              "      <td>5928.00000</td>\n",
              "      <td>90.00000</td>\n",
              "      <td>6580.08000</td>\n",
              "      <td>150.00000</td>\n",
              "      <td>1110110110.00000</td>\n",
              "    </tr>\n",
              "  </tbody>\n",
              "</table>\n",
              "</div>\n",
              "      <button class=\"colab-df-convert\" onclick=\"convertToInteractive('df-498efe7a-9b7c-499e-ac45-3431a15a7ae9')\"\n",
              "              title=\"Convert this dataframe to an interactive table.\"\n",
              "              style=\"display:none;\">\n",
              "        \n",
              "  <svg xmlns=\"http://www.w3.org/2000/svg\" height=\"24px\"viewBox=\"0 0 24 24\"\n",
              "       width=\"24px\">\n",
              "    <path d=\"M0 0h24v24H0V0z\" fill=\"none\"/>\n",
              "    <path d=\"M18.56 5.44l.94 2.06.94-2.06 2.06-.94-2.06-.94-.94-2.06-.94 2.06-2.06.94zm-11 1L8.5 8.5l.94-2.06 2.06-.94-2.06-.94L8.5 2.5l-.94 2.06-2.06.94zm10 10l.94 2.06.94-2.06 2.06-.94-2.06-.94-.94-2.06-.94 2.06-2.06.94z\"/><path d=\"M17.41 7.96l-1.37-1.37c-.4-.4-.92-.59-1.43-.59-.52 0-1.04.2-1.43.59L10.3 9.45l-7.72 7.72c-.78.78-.78 2.05 0 2.83L4 21.41c.39.39.9.59 1.41.59.51 0 1.02-.2 1.41-.59l7.78-7.78 2.81-2.81c.8-.78.8-2.07 0-2.86zM5.41 20L4 18.59l7.72-7.72 1.47 1.35L5.41 20z\"/>\n",
              "  </svg>\n",
              "      </button>\n",
              "      \n",
              "  <style>\n",
              "    .colab-df-container {\n",
              "      display:flex;\n",
              "      flex-wrap:wrap;\n",
              "      gap: 12px;\n",
              "    }\n",
              "\n",
              "    .colab-df-convert {\n",
              "      background-color: #E8F0FE;\n",
              "      border: none;\n",
              "      border-radius: 50%;\n",
              "      cursor: pointer;\n",
              "      display: none;\n",
              "      fill: #1967D2;\n",
              "      height: 32px;\n",
              "      padding: 0 0 0 0;\n",
              "      width: 32px;\n",
              "    }\n",
              "\n",
              "    .colab-df-convert:hover {\n",
              "      background-color: #E2EBFA;\n",
              "      box-shadow: 0px 1px 2px rgba(60, 64, 67, 0.3), 0px 1px 3px 1px rgba(60, 64, 67, 0.15);\n",
              "      fill: #174EA6;\n",
              "    }\n",
              "\n",
              "    [theme=dark] .colab-df-convert {\n",
              "      background-color: #3B4455;\n",
              "      fill: #D2E3FC;\n",
              "    }\n",
              "\n",
              "    [theme=dark] .colab-df-convert:hover {\n",
              "      background-color: #434B5C;\n",
              "      box-shadow: 0px 1px 3px 1px rgba(0, 0, 0, 0.15);\n",
              "      filter: drop-shadow(0px 1px 2px rgba(0, 0, 0, 0.3));\n",
              "      fill: #FFFFFF;\n",
              "    }\n",
              "  </style>\n",
              "\n",
              "      <script>\n",
              "        const buttonEl =\n",
              "          document.querySelector('#df-498efe7a-9b7c-499e-ac45-3431a15a7ae9 button.colab-df-convert');\n",
              "        buttonEl.style.display =\n",
              "          google.colab.kernel.accessAllowed ? 'block' : 'none';\n",
              "\n",
              "        async function convertToInteractive(key) {\n",
              "          const element = document.querySelector('#df-498efe7a-9b7c-499e-ac45-3431a15a7ae9');\n",
              "          const dataTable =\n",
              "            await google.colab.kernel.invokeFunction('convertToInteractive',\n",
              "                                                     [key], {});\n",
              "          if (!dataTable) return;\n",
              "\n",
              "          const docLinkHtml = 'Like what you see? Visit the ' +\n",
              "            '<a target=\"_blank\" href=https://colab.research.google.com/notebooks/data_table.ipynb>data table notebook</a>'\n",
              "            + ' to learn more about interactive tables.';\n",
              "          element.innerHTML = '';\n",
              "          dataTable['output_type'] = 'display_data';\n",
              "          await google.colab.output.renderOutput(dataTable, element);\n",
              "          const docLink = document.createElement('div');\n",
              "          docLink.innerHTML = docLinkHtml;\n",
              "          element.appendChild(docLink);\n",
              "        }\n",
              "      </script>\n",
              "    </div>\n",
              "  </div>\n",
              "  "
            ]
          },
          "metadata": {},
          "execution_count": 35
        }
      ],
      "source": [
        "otherstate.describe() #key stats for not california rentals"
      ]
    },
    {
      "cell_type": "markdown",
      "source": [
        "CA average paid: 31.84870 </br>\n",
        "Other states average paid: 39.35204\t</br>\n",
        "\n",
        "Difference in average total paid: $7.50 </br></br>\n",
        "\n",
        "Result: Reject the null"
      ],
      "metadata": {
        "id": "RfOHKe86hUz2"
      }
    },
    {
      "cell_type": "markdown",
      "source": [
        "# Results"
      ],
      "metadata": {
        "id": "0SsW9tJ6flMf"
      }
    },
    {
      "cell_type": "markdown",
      "source": [
        "1. Central US region has statistically 0.16385 fewer people per reservation. While this is not a large amount, it could be good to keep in mind when looking for other causal factors.\n",
        "\n",
        "2. California rentals have an average total paid price $7.50 lower than the average reservation in the other US states."
      ],
      "metadata": {
        "id": "u2XhLG1wfopH"
      }
    },
    {
      "cell_type": "markdown",
      "source": [
        "# Recommendations"
      ],
      "metadata": {
        "id": "4yYzIwpbm0G2"
      }
    },
    {
      "cell_type": "markdown",
      "source": [
        "![image.png](data:image/png;base64,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)"
      ],
      "metadata": {
        "id": "t27GcDRinTrP"
      }
    },
    {
      "cell_type": "markdown",
      "source": [
        "Previous Years' data can be accessed at recreation.gov. This information could help discover trends in camper behavior in order to predict future needs."
      ],
      "metadata": {
        "id": "4ODFg3QoncQX"
      }
    }
  ],
  "metadata": {
    "colab": {
      "name": "NationalParksVisits.ipynb",
      "provenance": [],
      "toc_visible": true,
      "mount_file_id": "1SJNSjNeaPwt45Ywsulped8E-oaJCCktt",
      "authorship_tag": "ABX9TyO+Hq9FQ6WOqAcgD+etM+EJ",
      "include_colab_link": true
    },
    "kernelspec": {
      "display_name": "Python 3",
      "name": "python3"
    },
    "language_info": {
      "name": "python"
    }
  },
  "nbformat": 4,
  "nbformat_minor": 0
}